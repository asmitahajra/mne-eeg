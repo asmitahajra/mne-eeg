{
 "cells": [
  {
   "cell_type": "code",
   "execution_count": 4,
   "id": "f79ece13-8051-4f19-9433-694ffcdc1c63",
   "metadata": {},
   "outputs": [],
   "source": [
    "import matplotlib\n",
    "import pathlib\n",
    "import mne\n",
    "import mne_bids #brain imaging data structure #convert dataset to bits compatible dataset, .fif is actual data, will be able to run tools that expect bits data"
   ]
  },
  {
   "cell_type": "code",
   "execution_count": 5,
   "id": "7c56b546-4ad4-4e4f-98fd-11634e20cf3e",
   "metadata": {},
   "outputs": [],
   "source": [
    "matplotlib.use('Qt5Agg')  #interactive"
   ]
  },
  {
   "cell_type": "code",
   "execution_count": 7,
   "id": "d244fa97-fb78-4c56-86d8-9b89571a904c",
   "metadata": {},
   "outputs": [],
   "source": [
    "data_path=\"/Users/Asmita_Hajra/Downloads/bidsexport\""
   ]
  },
  {
   "cell_type": "markdown",
   "id": "e835fa30-7c21-4fcb-8b84-fa8de85d749d",
   "metadata": {},
   "source": [
    "## Structure of directory"
   ]
  },
  {
   "cell_type": "code",
   "execution_count": 8,
   "id": "f943d012-6fb7-4462-8ed8-b63f4d85ea85",
   "metadata": {
    "collapsed": true,
    "jupyter": {
     "outputs_hidden": true
    },
    "tags": []
   },
   "outputs": [
    {
     "name": "stdout",
     "output_type": "stream",
     "text": [
      "|bidsexport/\n",
      "|--- .DS_Store\n",
      "|--- CHANGES\n",
      "|--- README\n",
      "|--- dataset_description.json\n",
      "|--- participants.json\n",
      "|--- participants.tsv\n",
      "|--- task-meditation_events.json\n",
      "|--- code/\n",
      "|------ run_mw_experiment6.m\n",
      "|--- stimuli/\n",
      "|------ cancel.wav\n",
      "|------ depth.wav\n",
      "|------ expe_over.wav\n",
      "|------ mind_wandering.wav\n",
      "|------ rate_meditation.wav\n",
      "|------ rate_mw.wav\n",
      "|------ rate_tired.wav\n",
      "|------ resume.wav\n",
      "|------ resumed.wav\n",
      "|------ resumemed.wav\n",
      "|------ self.wav\n",
      "|------ starting.wav\n",
      "|------ time.wav\n",
      "|------ valence.wav\n",
      "|--- sub-001/\n",
      "|------ .DS_Store\n",
      "|------ ses-01/\n",
      "|--------- .DS_Store\n",
      "|--------- eeg/\n",
      "|------------ sub-001_ses-01_task-meditation_channels.tsv\n",
      "|------------ sub-001_ses-01_task-meditation_eeg.bdf\n",
      "|------------ sub-001_ses-01_task-meditation_eeg.json\n",
      "|------------ sub-001_ses-01_task-meditation_events.tsv\n",
      "|------------ .ipynb_checkpoints/\n",
      "|--------------- sub-001_ses-01_task-meditation_channels-checkpoint.tsv\n",
      "|--------------- sub-001_ses-01_task-meditation_events-checkpoint.tsv\n",
      "|------ ses-02/\n",
      "|--------- eeg/\n",
      "|------------ sub-001_ses-02_task-meditation_channels.tsv\n",
      "|------------ sub-001_ses-02_task-meditation_eeg.bdf\n",
      "|------------ sub-001_ses-02_task-meditation_eeg.json\n",
      "|------------ sub-001_ses-02_task-meditation_events.tsv\n",
      "|--- sub-002/\n",
      "|------ ses-01/\n",
      "|--------- eeg/\n",
      "|------------ sub-002_ses-01_task-meditation_channels.tsv\n",
      "|------------ sub-002_ses-01_task-meditation_eeg.bdf\n",
      "|------------ sub-002_ses-01_task-meditation_eeg.json\n",
      "|------------ sub-002_ses-01_task-meditation_events.tsv\n",
      "|------ ses-02/\n",
      "|--------- eeg/\n",
      "|------------ sub-002_ses-02_task-meditation_channels.tsv\n",
      "|------------ sub-002_ses-02_task-meditation_eeg.bdf\n",
      "|------------ sub-002_ses-02_task-meditation_eeg.json\n",
      "|------------ sub-002_ses-02_task-meditation_events.tsv\n",
      "|--- sub-003/\n",
      "|------ ses-01/\n",
      "|--------- eeg/\n",
      "|------------ sub-003_ses-01_task-meditation_channels.tsv\n",
      "|------------ sub-003_ses-01_task-meditation_eeg.bdf\n",
      "|------------ sub-003_ses-01_task-meditation_eeg.json\n",
      "|------------ sub-003_ses-01_task-meditation_events.tsv\n",
      "|------ ses-02/\n",
      "|--------- eeg/\n",
      "|------------ sub-003_ses-02_task-meditation_channels.tsv\n",
      "|------------ sub-003_ses-02_task-meditation_eeg.bdf\n",
      "|------------ sub-003_ses-02_task-meditation_eeg.json\n",
      "|------------ sub-003_ses-02_task-meditation_events.tsv\n",
      "|--- sub-004/\n",
      "|------ ses-01/\n",
      "|--------- eeg/\n",
      "|------------ sub-004_ses-01_task-meditation_channels.tsv\n",
      "|------------ sub-004_ses-01_task-meditation_eeg.bdf\n",
      "|------------ sub-004_ses-01_task-meditation_eeg.json\n",
      "|------------ sub-004_ses-01_task-meditation_events.tsv\n",
      "|------ ses-02/\n",
      "|--------- eeg/\n",
      "|------------ sub-004_ses-02_task-meditation_channels.tsv\n",
      "|------------ sub-004_ses-02_task-meditation_eeg.bdf\n",
      "|------------ sub-004_ses-02_task-meditation_eeg.json\n",
      "|------------ sub-004_ses-02_task-meditation_events.tsv\n",
      "|--- sub-005/\n",
      "|------ ses-01/\n",
      "|--------- eeg/\n",
      "|------------ sub-005_ses-01_task-meditation_channels.tsv\n",
      "|------------ sub-005_ses-01_task-meditation_eeg.bdf\n",
      "|------------ sub-005_ses-01_task-meditation_eeg.json\n",
      "|------------ sub-005_ses-01_task-meditation_events.tsv\n",
      "|------ ses-02/\n",
      "|--------- eeg/\n",
      "|------------ sub-005_ses-02_task-meditation_channels.tsv\n",
      "|------------ sub-005_ses-02_task-meditation_eeg.bdf\n",
      "|------------ sub-005_ses-02_task-meditation_eeg.json\n",
      "|------------ sub-005_ses-02_task-meditation_events.tsv\n",
      "|--- sub-006/\n",
      "|------ ses-01/\n",
      "|--------- eeg/\n",
      "|------------ sub-006_ses-01_task-meditation_channels.tsv\n",
      "|------------ sub-006_ses-01_task-meditation_eeg.bdf\n",
      "|------------ sub-006_ses-01_task-meditation_eeg.json\n",
      "|------------ sub-006_ses-01_task-meditation_events.tsv\n",
      "|------ ses-02/\n",
      "|--------- eeg/\n",
      "|------------ sub-006_ses-02_task-meditation_channels.tsv\n",
      "|------------ sub-006_ses-02_task-meditation_eeg.bdf\n",
      "|------------ sub-006_ses-02_task-meditation_eeg.json\n",
      "|------------ sub-006_ses-02_task-meditation_events.tsv\n",
      "|--- sub-007/\n",
      "|------ ses-01/\n",
      "|--------- eeg/\n",
      "|------------ sub-007_ses-01_task-meditation_channels.tsv\n",
      "|------------ sub-007_ses-01_task-meditation_eeg.bdf\n",
      "|------------ sub-007_ses-01_task-meditation_eeg.json\n",
      "|------------ sub-007_ses-01_task-meditation_events.tsv\n",
      "|------ ses-02/\n",
      "|--------- eeg/\n",
      "|------------ sub-007_ses-02_task-meditation_channels.tsv\n",
      "|------------ sub-007_ses-02_task-meditation_eeg.bdf\n",
      "|------------ sub-007_ses-02_task-meditation_eeg.json\n",
      "|------------ sub-007_ses-02_task-meditation_events.tsv\n",
      "|--- sub-008/\n",
      "|------ ses-01/\n",
      "|--------- eeg/\n",
      "|------------ sub-008_ses-01_task-meditation_channels.tsv\n",
      "|------------ sub-008_ses-01_task-meditation_eeg.bdf\n",
      "|------------ sub-008_ses-01_task-meditation_eeg.json\n",
      "|------------ sub-008_ses-01_task-meditation_events.tsv\n",
      "|--- sub-009/\n",
      "|------ ses-01/\n",
      "|--------- eeg/\n",
      "|------------ sub-009_ses-01_task-meditation_channels.tsv\n",
      "|------------ sub-009_ses-01_task-meditation_eeg.bdf\n",
      "|------------ sub-009_ses-01_task-meditation_eeg.json\n",
      "|------------ sub-009_ses-01_task-meditation_events.tsv\n",
      "|------ ses-02/\n",
      "|--------- eeg/\n",
      "|------------ sub-009_ses-02_task-meditation_channels.tsv\n",
      "|------------ sub-009_ses-02_task-meditation_eeg.bdf\n",
      "|------------ sub-009_ses-02_task-meditation_eeg.json\n",
      "|------------ sub-009_ses-02_task-meditation_events.tsv\n",
      "|--- sub-010/\n",
      "|------ ses-01/\n",
      "|--------- eeg/\n",
      "|------------ sub-010_ses-01_task-meditation_channels.tsv\n",
      "|------------ sub-010_ses-01_task-meditation_eeg.bdf\n",
      "|------------ sub-010_ses-01_task-meditation_eeg.json\n",
      "|------------ sub-010_ses-01_task-meditation_events.tsv\n",
      "|------ ses-02/\n",
      "|--------- eeg/\n",
      "|------------ sub-010_ses-02_task-meditation_channels.tsv\n",
      "|------------ sub-010_ses-02_task-meditation_eeg.bdf\n",
      "|------------ sub-010_ses-02_task-meditation_eeg.json\n",
      "|------------ sub-010_ses-02_task-meditation_events.tsv\n",
      "|--- sub-011/\n",
      "|------ ses-01/\n",
      "|--------- eeg/\n",
      "|------------ sub-011_ses-01_task-meditation_channels.tsv\n",
      "|------------ sub-011_ses-01_task-meditation_eeg.bdf\n",
      "|------------ sub-011_ses-01_task-meditation_eeg.json\n",
      "|------------ sub-011_ses-01_task-meditation_events.tsv\n",
      "|------ ses-02/\n",
      "|--------- eeg/\n",
      "|------------ sub-011_ses-02_task-meditation_channels.tsv\n",
      "|------------ sub-011_ses-02_task-meditation_eeg.bdf\n",
      "|------------ sub-011_ses-02_task-meditation_eeg.json\n",
      "|------------ sub-011_ses-02_task-meditation_events.tsv\n",
      "|--- sub-012/\n",
      "|------ ses-01/\n",
      "|--------- eeg/\n",
      "|------------ sub-012_ses-01_task-meditation_channels.tsv\n",
      "|------------ sub-012_ses-01_task-meditation_eeg.bdf\n",
      "|------------ sub-012_ses-01_task-meditation_eeg.json\n",
      "|------------ sub-012_ses-01_task-meditation_events.tsv\n",
      "|--- sub-013/\n",
      "|------ ses-01/\n",
      "|--------- eeg/\n",
      "|------------ sub-013_ses-01_task-meditation_channels.tsv\n",
      "|------------ sub-013_ses-01_task-meditation_eeg.bdf\n",
      "|------------ sub-013_ses-01_task-meditation_eeg.json\n",
      "|------------ sub-013_ses-01_task-meditation_events.tsv\n",
      "|--- sub-014/\n",
      "|------ ses-01/\n",
      "|--------- eeg/\n",
      "|------------ sub-014_ses-01_task-meditation_channels.tsv\n",
      "|------------ sub-014_ses-01_task-meditation_eeg.bdf\n",
      "|------------ sub-014_ses-01_task-meditation_eeg.json\n",
      "|------------ sub-014_ses-01_task-meditation_events.tsv\n",
      "|--- sub-015/\n",
      "|------ ses-01/\n",
      "|--------- eeg/\n",
      "|------------ sub-015_ses-01_task-meditation_channels.tsv\n",
      "|------------ sub-015_ses-01_task-meditation_eeg.bdf\n",
      "|------------ sub-015_ses-01_task-meditation_eeg.json\n",
      "|------------ sub-015_ses-01_task-meditation_events.tsv\n",
      "|--- sub-016/\n",
      "|------ ses-01/\n",
      "|--------- eeg/\n",
      "|------------ sub-016_ses-01_task-meditation_channels.tsv\n",
      "|------------ sub-016_ses-01_task-meditation_eeg.bdf\n",
      "|------------ sub-016_ses-01_task-meditation_eeg.json\n",
      "|------------ sub-016_ses-01_task-meditation_events.tsv\n",
      "|------ ses-02/\n",
      "|--------- eeg/\n",
      "|------------ sub-016_ses-02_task-meditation_channels.tsv\n",
      "|------------ sub-016_ses-02_task-meditation_eeg.bdf\n",
      "|------------ sub-016_ses-02_task-meditation_eeg.json\n",
      "|------------ sub-016_ses-02_task-meditation_events.tsv\n",
      "|--- sub-017/\n",
      "|------ ses-01/\n",
      "|--------- eeg/\n",
      "|------------ sub-017_ses-01_task-meditation_channels.tsv\n",
      "|------------ sub-017_ses-01_task-meditation_eeg.bdf\n",
      "|------------ sub-017_ses-01_task-meditation_eeg.json\n",
      "|------------ sub-017_ses-01_task-meditation_events.tsv\n",
      "|------ ses-02/\n",
      "|--------- eeg/\n",
      "|------------ sub-017_ses-02_task-meditation_channels.tsv\n",
      "|------------ sub-017_ses-02_task-meditation_eeg.bdf\n",
      "|------------ sub-017_ses-02_task-meditation_eeg.json\n",
      "|------------ sub-017_ses-02_task-meditation_events.tsv\n",
      "|--- sub-018/\n",
      "|------ ses-01/\n",
      "|--------- eeg/\n",
      "|------------ sub-018_ses-01_task-meditation_channels.tsv\n",
      "|------------ sub-018_ses-01_task-meditation_eeg.bdf\n",
      "|------------ sub-018_ses-01_task-meditation_eeg.json\n",
      "|------------ sub-018_ses-01_task-meditation_events.tsv\n",
      "|------ ses-02/\n",
      "|--------- eeg/\n",
      "|------------ sub-018_ses-02_task-meditation_channels.tsv\n",
      "|------------ sub-018_ses-02_task-meditation_eeg.bdf\n",
      "|------------ sub-018_ses-02_task-meditation_eeg.json\n",
      "|------------ sub-018_ses-02_task-meditation_events.tsv\n",
      "|--- sub-019/\n",
      "|------ ses-01/\n",
      "|--------- eeg/\n",
      "|------------ sub-019_ses-01_task-meditation_channels.tsv\n",
      "|------------ sub-019_ses-01_task-meditation_eeg.bdf\n",
      "|------------ sub-019_ses-01_task-meditation_eeg.json\n",
      "|------------ sub-019_ses-01_task-meditation_events.tsv\n",
      "|--- sub-020/\n",
      "|------ ses-01/\n",
      "|--------- eeg/\n",
      "|------------ sub-020_ses-01_task-meditation_channels.tsv\n",
      "|------------ sub-020_ses-01_task-meditation_eeg.bdf\n",
      "|------------ sub-020_ses-01_task-meditation_eeg.json\n",
      "|------------ sub-020_ses-01_task-meditation_events.tsv\n",
      "|--- sub-021/\n",
      "|------ ses-01/\n",
      "|--------- eeg/\n",
      "|------------ sub-021_ses-01_task-meditation_channels.tsv\n",
      "|------------ sub-021_ses-01_task-meditation_eeg.bdf\n",
      "|------------ sub-021_ses-01_task-meditation_eeg.json\n",
      "|------------ sub-021_ses-01_task-meditation_events.tsv\n",
      "|--- sub-022/\n",
      "|------ ses-01/\n",
      "|--------- eeg/\n",
      "|------------ sub-022_ses-01_task-meditation_channels.tsv\n",
      "|------------ sub-022_ses-01_task-meditation_eeg.bdf\n",
      "|------------ sub-022_ses-01_task-meditation_eeg.json\n",
      "|------------ sub-022_ses-01_task-meditation_events.tsv\n",
      "|------ ses-02/\n",
      "|--------- eeg/\n",
      "|------------ sub-022_ses-02_task-meditation_channels.tsv\n",
      "|------------ sub-022_ses-02_task-meditation_eeg.bdf\n",
      "|------------ sub-022_ses-02_task-meditation_eeg.json\n",
      "|------------ sub-022_ses-02_task-meditation_events.tsv\n",
      "|------ ses-03/\n",
      "|--------- eeg/\n",
      "|------------ sub-022_ses-03_task-meditation_channels.tsv\n",
      "|------------ sub-022_ses-03_task-meditation_eeg.bdf\n",
      "|------------ sub-022_ses-03_task-meditation_eeg.json\n",
      "|------------ sub-022_ses-03_task-meditation_events.tsv\n",
      "|--- sub-023/\n",
      "|------ ses-01/\n",
      "|--------- eeg/\n",
      "|------------ sub-023_ses-01_task-meditation_channels.tsv\n",
      "|------------ sub-023_ses-01_task-meditation_eeg.bdf\n",
      "|------------ sub-023_ses-01_task-meditation_eeg.json\n",
      "|------------ sub-023_ses-01_task-meditation_events.tsv\n",
      "|------ ses-02/\n",
      "|--------- eeg/\n",
      "|------------ sub-023_ses-02_task-meditation_channels.tsv\n",
      "|------------ sub-023_ses-02_task-meditation_eeg.bdf\n",
      "|------------ sub-023_ses-02_task-meditation_eeg.json\n",
      "|------------ sub-023_ses-02_task-meditation_events.tsv\n",
      "|--- sub-024/\n",
      "|------ ses-01/\n",
      "|--------- eeg/\n",
      "|------------ sub-024_ses-01_task-meditation_channels.tsv\n",
      "|------------ sub-024_ses-01_task-meditation_eeg.bdf\n",
      "|------------ sub-024_ses-01_task-meditation_eeg.json\n",
      "|------------ sub-024_ses-01_task-meditation_events.tsv\n"
     ]
    }
   ],
   "source": [
    "mne_bids.print_dir_tree(data_path)"
   ]
  },
  {
   "cell_type": "markdown",
   "id": "0cad9218-17ff-4b50-afa2-f73568728518",
   "metadata": {},
   "source": [
    "## Report"
   ]
  },
  {
   "cell_type": "code",
   "execution_count": 9,
   "id": "82daad8f-93f1-4160-a582-f7efe840aba1",
   "metadata": {
    "collapsed": true,
    "jupyter": {
     "outputs_hidden": true
    },
    "tags": []
   },
   "outputs": [
    {
     "ename": "KeyError",
     "evalue": "'Authors'",
     "output_type": "error",
     "traceback": [
      "\u001b[0;31m---------------------------------------------------------------------------\u001b[0m",
      "\u001b[0;31mKeyError\u001b[0m                                  Traceback (most recent call last)",
      "\u001b[0;32m/var/folders/wg/n4lzr5p965ngqdcxry8zy3kc0000gn/T/ipykernel_99866/4204987029.py\u001b[0m in \u001b[0;36m<module>\u001b[0;34m\u001b[0m\n\u001b[0;32m----> 1\u001b[0;31m \u001b[0mprint\u001b[0m\u001b[0;34m(\u001b[0m\u001b[0mmne_bids\u001b[0m\u001b[0;34m.\u001b[0m\u001b[0mmake_report\u001b[0m\u001b[0;34m(\u001b[0m\u001b[0mdata_path\u001b[0m\u001b[0;34m)\u001b[0m\u001b[0;34m)\u001b[0m \u001b[0;31m#path to bids directory\u001b[0m\u001b[0;34m\u001b[0m\u001b[0;34m\u001b[0m\u001b[0m\n\u001b[0m",
      "\u001b[0;32m~/opt/anaconda3/envs/mne/lib/python3.9/site-packages/mne_bids/report.py\u001b[0m in \u001b[0;36mmake_report\u001b[0;34m(root, session, verbose)\u001b[0m\n\u001b[1;32m    494\u001b[0m \u001b[0;34m\u001b[0m\u001b[0m\n\u001b[1;32m    495\u001b[0m     \u001b[0;31m# REQUIRED: dataset_description.json summary\u001b[0m\u001b[0;34m\u001b[0m\u001b[0;34m\u001b[0m\u001b[0;34m\u001b[0m\u001b[0m\n\u001b[0;32m--> 496\u001b[0;31m     \u001b[0mdataset_summary\u001b[0m \u001b[0;34m=\u001b[0m \u001b[0m_summarize_dataset\u001b[0m\u001b[0;34m(\u001b[0m\u001b[0mroot\u001b[0m\u001b[0;34m)\u001b[0m\u001b[0;34m\u001b[0m\u001b[0;34m\u001b[0m\u001b[0m\n\u001b[0m\u001b[1;32m    497\u001b[0m \u001b[0;34m\u001b[0m\u001b[0m\n\u001b[1;32m    498\u001b[0m     \u001b[0;31m# RECOMMENDED: participants summary\u001b[0m\u001b[0;34m\u001b[0m\u001b[0;34m\u001b[0m\u001b[0;34m\u001b[0m\u001b[0m\n",
      "\u001b[0;32m~/opt/anaconda3/envs/mne/lib/python3.9/site-packages/mne_bids/report.py\u001b[0m in \u001b[0;36m_summarize_dataset\u001b[0;34m(root)\u001b[0m\n\u001b[1;32m    164\u001b[0m     \u001b[0mname\u001b[0m \u001b[0;34m=\u001b[0m \u001b[0mdataset_description\u001b[0m\u001b[0;34m[\u001b[0m\u001b[0;34m'Name'\u001b[0m\u001b[0;34m]\u001b[0m\u001b[0;34m\u001b[0m\u001b[0;34m\u001b[0m\u001b[0m\n\u001b[1;32m    165\u001b[0m     \u001b[0mbids_version\u001b[0m \u001b[0;34m=\u001b[0m \u001b[0mdataset_description\u001b[0m\u001b[0;34m[\u001b[0m\u001b[0;34m'BIDSVersion'\u001b[0m\u001b[0;34m]\u001b[0m\u001b[0;34m\u001b[0m\u001b[0;34m\u001b[0m\u001b[0m\n\u001b[0;32m--> 166\u001b[0;31m     \u001b[0mauthors\u001b[0m \u001b[0;34m=\u001b[0m \u001b[0mdataset_description\u001b[0m\u001b[0;34m[\u001b[0m\u001b[0;34m'Authors'\u001b[0m\u001b[0;34m]\u001b[0m\u001b[0;34m\u001b[0m\u001b[0;34m\u001b[0m\u001b[0m\n\u001b[0m\u001b[1;32m    167\u001b[0m     template_dict = {\n\u001b[1;32m    168\u001b[0m         \u001b[0;34m'name'\u001b[0m\u001b[0;34m:\u001b[0m \u001b[0mname\u001b[0m\u001b[0;34m,\u001b[0m\u001b[0;34m\u001b[0m\u001b[0;34m\u001b[0m\u001b[0m\n",
      "\u001b[0;31mKeyError\u001b[0m: 'Authors'"
     ]
    }
   ],
   "source": [
    "print(mne_bids.make_report(data_path)) #path to bids directory #no authors error"
   ]
  },
  {
   "cell_type": "markdown",
   "id": "53f5d162-1494-4c49-88cc-8bd5296ac105",
   "metadata": {},
   "source": [
    "## Reading BIDS data-> analyzing raw data\n",
    "\n"
   ]
  },
  {
   "cell_type": "code",
   "execution_count": 56,
   "id": "4403970c-7be0-4449-93e8-d8b3f88f6ded",
   "metadata": {},
   "outputs": [
    {
     "name": "stdout",
     "output_type": "stream",
     "text": [
      "Extracting EDF parameters from /Users/Asmita_Hajra/Downloads/bidsexport/sub-001/ses-01/eeg/sub-001_ses-01_task-meditation_eeg.bdf...\n",
      "BDF file detected\n",
      "Setting channel info structure...\n",
      "Creating raw.info structure...\n",
      "Reading events from /Users/Asmita_Hajra/Downloads/bidsexport/sub-001/ses-01/eeg/sub-001_ses-01_task-meditation_events.tsv.\n",
      "The event \"response\" refers to multiple event values. Creating hierarchical event names.\n",
      "    Renaming event: response -> response/2\n",
      "    Renaming event: response -> response/2\n",
      "    Renaming event: response -> response/2\n",
      "    Renaming event: response -> response/4\n",
      "    Renaming event: response -> response/2\n",
      "    Renaming event: response -> response/2\n",
      "    Renaming event: response -> response/2\n",
      "    Renaming event: response -> response/2\n",
      "    Renaming event: response -> response/2\n",
      "    Renaming event: response -> response/4\n",
      "    Renaming event: response -> response/4\n",
      "    Renaming event: response -> response/2\n",
      "    Renaming event: response -> response/2\n",
      "    Renaming event: response -> response/4\n",
      "    Renaming event: response -> response/2\n",
      "    Renaming event: response -> response/2\n",
      "    Renaming event: response -> response/4\n",
      "    Renaming event: response -> response/2\n",
      "    Renaming event: response -> response/4\n",
      "    Renaming event: response -> response/4\n",
      "    Renaming event: response -> response/2\n",
      "    Renaming event: response -> response/2\n",
      "    Renaming event: response -> response/2\n",
      "    Renaming event: response -> response/4\n",
      "    Renaming event: response -> response/4\n",
      "    Renaming event: response -> response/2\n",
      "    Renaming event: response -> response/4\n",
      "    Renaming event: response -> response/4\n",
      "    Renaming event: response -> response/2\n",
      "    Renaming event: response -> response/2\n",
      "    Renaming event: response -> response/2\n",
      "    Renaming event: response -> response/2\n",
      "    Renaming event: response -> response/4\n",
      "    Renaming event: response -> response/2\n",
      "    Renaming event: response -> response/2\n",
      "    Renaming event: response -> response/4\n",
      "    Renaming event: response -> response/2\n",
      "    Renaming event: response -> response/2\n",
      "    Renaming event: response -> response/2\n",
      "    Renaming event: response -> response/2\n",
      "    Renaming event: response -> response/2\n",
      "    Renaming event: response -> response/4\n",
      "    Renaming event: response -> response/2\n",
      "    Renaming event: response -> response/4\n",
      "    Renaming event: response -> response/2\n",
      "    Renaming event: response -> response/4\n",
      "    Renaming event: response -> response/2\n",
      "    Renaming event: response -> response/2\n",
      "    Renaming event: response -> response/4\n",
      "    Renaming event: response -> response/2\n",
      "    Renaming event: response -> response/2\n",
      "    Renaming event: response -> response/2\n",
      "    Renaming event: response -> response/2\n",
      "    Renaming event: response -> response/2\n",
      "    Renaming event: response -> response/4\n",
      "    Renaming event: response -> response/2\n",
      "    Renaming event: response -> response/2\n",
      "    Renaming event: response -> response/2\n",
      "    Renaming event: response -> response/2\n",
      "Reading channel info from /Users/Asmita_Hajra/Downloads/bidsexport/sub-001/ses-01/eeg/sub-001_ses-01_task-meditation_channels.tsv.\n"
     ]
    }
   ],
   "source": [
    "bids_path = mne_bids.BIDSPath(subject='001',\n",
    "                              session='01',\n",
    "                              task='meditation',\n",
    "                              # run='01', #doubt what is run number\n",
    "                              datatype='eeg', #will have a folder with datatype as name\n",
    "                              root=data_path)\n",
    "\n",
    "raw = mne_bids.read_raw_bids(bids_path)\n",
    "#reads event and channel info"
   ]
  },
  {
   "cell_type": "code",
   "execution_count": 57,
   "id": "47076922-b33c-4e33-87e2-8080efee147f",
   "metadata": {},
   "outputs": [
    {
     "data": {
      "text/plain": [
       "<MNEBrowseFigure size 2202x1054 with 4 Axes>"
      ]
     },
     "execution_count": 57,
     "metadata": {},
     "output_type": "execute_result"
    },
    {
     "name": "stdout",
     "output_type": "stream",
     "text": [
      "Channels marked as bad: none\n"
     ]
    }
   ],
   "source": [
    "raw.plot() #doubt lines for events?"
   ]
  },
  {
   "cell_type": "code",
   "execution_count": 45,
   "id": "4c43a018-81a4-40f0-976f-9207f8e8c806",
   "metadata": {},
   "outputs": [
    {
     "name": "stdout",
     "output_type": "stream",
     "text": [
      "Trigger channel has a non-zero initial value of 65536 (consider using initial_event=True to detect this event)\n",
      "Removing orphaned offset at the beginning of the file.\n",
      "87 events found\n",
      "Event IDs: [  2   4 128]\n"
     ]
    }
   ],
   "source": [
    "# events = mne.find_events(raw) # doubt meaning of below\n",
    "# doubt do we use events_True\n",
    "\n",
    "#If True (default False), an event is created if the stim channel has a value different from 0 as its first sample. This is useful if an event at t=0s is present"
   ]
  },
  {
   "cell_type": "code",
   "execution_count": 46,
   "id": "1b548b74-b8c2-4276-b548-91225d89c7fd",
   "metadata": {},
   "outputs": [
    {
     "data": {
      "text/plain": [
       "{'response/2': 2, 'response/4': 4, 'stimulus': 128}"
      ]
     },
     "execution_count": 46,
     "metadata": {},
     "output_type": "execute_result"
    }
   ],
   "source": [
    "# event_id = {\n",
    "#     'response/2': 2,\n",
    "#     'response/4': 4,\n",
    "#     'stimulus': 128\n",
    "# }\n",
    "# event_id"
   ]
  },
  {
   "cell_type": "code",
   "execution_count": 55,
   "id": "b7bed07b-8675-412c-bd1e-eb41fbf808c1",
   "metadata": {},
   "outputs": [
    {
     "data": {
      "text/plain": [
       "<MNEBrowseFigure size 2202x1054 with 4 Axes>"
      ]
     },
     "execution_count": 55,
     "metadata": {},
     "output_type": "execute_result"
    },
    {
     "name": "stdout",
     "output_type": "stream",
     "text": [
      "Channels marked as bad: none\n"
     ]
    }
   ],
   "source": [
    "# raw.plot(events=events, event_id=event_id) \n",
    "\n",
    "#mne bids finds the events it fi"
   ]
  },
  {
   "cell_type": "code",
   "execution_count": 49,
   "id": "aa0e68f0-541c-4319-b7c6-a223205ac8bb",
   "metadata": {},
   "outputs": [
    {
     "data": {
      "text/html": [
       "\n",
       "<table class=\"table table-hover\">\n",
       "    <tr>\n",
       "        <th>Measurement date</th>\n",
       "        <td>April 04, 2014  19:40:17 GMT</td>\n",
       "        \n",
       "    </tr>\n",
       "    <tr>\n",
       "        <th>Experimenter</th>\n",
       "<td>Unknown</td>\n",
       "    </tr>\n",
       "        <th>Participant</th>\n",
       "            <td>sub-001</td>\n",
       "        \n",
       "    </tr>\n",
       "    <tr>\n",
       "        <th>Digitized points</th>\n",
       "        <td>Not available</td>\n",
       "    </tr>\n",
       "    <tr>\n",
       "        <th>Good channels</th>\n",
       "        <td>0 magnetometer, 0 gradiometer,\n",
       "            and 68 EEG channels</td>\n",
       "    </tr>\n",
       "    <tr>\n",
       "        <th>Bad channels</th>\n",
       "        <td></td>\n",
       "        \n",
       "    </tr>\n",
       "    <tr>\n",
       "        <th>EOG channels</th>\n",
       "        <td>Not available</td>\n",
       "    </tr>\n",
       "    <tr>\n",
       "        <th>ECG channels</th>\n",
       "        <td>Not available</td>\n",
       "    <tr>\n",
       "        <th>Sampling frequency</th>\n",
       "        <td>256.00 Hz</td>\n",
       "    </tr>\n",
       "    <tr>\n",
       "        <th>Highpass</th>\n",
       "        <td>0.00 Hz</td>\n",
       "    </tr>\n",
       "     <tr>\n",
       "        <th>Lowpass</th>\n",
       "        <td>52.00 Hz</td>\n",
       "    </tr>\n",
       "</table>\n"
      ],
      "text/plain": [
       "<Info | 9 non-empty values\n",
       " bads: []\n",
       " ch_names: A1, A2, A3, A4, A5, A6, A7, A8, A9, A10, A11, A12, A13, A14, ...\n",
       " chs: 68 EEG, 10 MISC, 1 RESP, 1 STIM\n",
       " custom_ref_applied: False\n",
       " highpass: 0.0 Hz\n",
       " line_freq: 50\n",
       " lowpass: 52.0 Hz\n",
       " meas_date: 2014-04-04 19:40:17 UTC\n",
       " nchan: 80\n",
       " projs: []\n",
       " sfreq: 256.0 Hz\n",
       " subject_info: 4 items (dict)\n",
       ">"
      ]
     },
     "execution_count": 49,
     "metadata": {},
     "output_type": "execute_result"
    }
   ],
   "source": [
    "raw.info"
   ]
  },
  {
   "cell_type": "code",
   "execution_count": 19,
   "id": "9b9860b8-e8fa-474e-b1ab-48e84d928ada",
   "metadata": {
    "collapsed": true,
    "jupyter": {
     "outputs_hidden": true
    },
    "tags": []
   },
   "outputs": [
    {
     "data": {
      "text/plain": [
       "array([[ 18275,      0,    128],\n",
       "       [ 19387,      0,      2],\n",
       "       [ 20422,      0,      2],\n",
       "       [ 32156,      0,    128],\n",
       "       [ 46029,      0,    128],\n",
       "       [ 46873,      0,      2],\n",
       "       [ 47522,      0,      4],\n",
       "       [ 72924,      0,    128],\n",
       "       [ 73666,      0,      2],\n",
       "       [ 74230,      0,      2],\n",
       "       [ 92717,      0,    128],\n",
       "       [ 94025,      0,      2],\n",
       "       [ 94590,      0,      2],\n",
       "       [108211,      0,    128],\n",
       "       [109532,      0,      2],\n",
       "       [110110,      0,      4],\n",
       "       [130866,      0,    128],\n",
       "       [131605,      0,      4],\n",
       "       [132900,      0,      2],\n",
       "       [156301,      0,    128],\n",
       "       [157153,      0,      2],\n",
       "       [157843,      0,      4],\n",
       "       [176353,      0,    128],\n",
       "       [177182,      0,      2],\n",
       "       [177821,      0,      2],\n",
       "       [191436,      0,    128],\n",
       "       [192495,      0,      4],\n",
       "       [193129,      0,      2],\n",
       "       [233638,      0,    128],\n",
       "       [234323,      0,      4],\n",
       "       [234936,      0,      4],\n",
       "       [248375,      0,    128],\n",
       "       [249218,      0,      2],\n",
       "       [249817,      0,      2],\n",
       "       [255773,      0,    128],\n",
       "       [256493,      0,      2],\n",
       "       [257060,      0,      4],\n",
       "       [286302,      0,    128],\n",
       "       [287009,      0,      4],\n",
       "       [287601,      0,      2],\n",
       "       [320684,      0,    128],\n",
       "       [321413,      0,      4],\n",
       "       [340579,      0,    128],\n",
       "       [341369,      0,      4],\n",
       "       [342650,      0,      2],\n",
       "       [383286,      0,    128],\n",
       "       [384166,      0,      2],\n",
       "       [384810,      0,      2],\n",
       "       [406476,      0,    128],\n",
       "       [407297,      0,      2],\n",
       "       [407956,      0,      4],\n",
       "       [409017,      0,      2],\n",
       "       [444348,      0,    128],\n",
       "       [445107,      0,      2],\n",
       "       [445683,      0,      4],\n",
       "       [446969,      0,      2],\n",
       "       [482043,      0,    128],\n",
       "       [482761,      0,      2],\n",
       "       [483421,      0,      2],\n",
       "       [521536,      0,    128],\n",
       "       [522365,      0,      2],\n",
       "       [523009,      0,      2],\n",
       "       [535415,      0,    128],\n",
       "       [536091,      0,      4],\n",
       "       [536691,      0,      2],\n",
       "       [573609,      0,    128],\n",
       "       [574341,      0,      4],\n",
       "       [574916,      0,      2],\n",
       "       [588192,      0,    128],\n",
       "       [588973,      0,      4],\n",
       "       [589524,      0,      2],\n",
       "       [611318,      0,    128],\n",
       "       [612110,      0,      2],\n",
       "       [612703,      0,      4],\n",
       "       [613416,      0,      2],\n",
       "       [634153,      0,    128],\n",
       "       [635029,      0,      2],\n",
       "       [635592,      0,      2],\n",
       "       [636193,      0,      2],\n",
       "       [662819,      0,    128],\n",
       "       [663674,      0,      2],\n",
       "       [664355,      0,      4],\n",
       "       [665003,      0,      2],\n",
       "       [677292,      0,    128],\n",
       "       [678266,      0,      2],\n",
       "       [678926,      0,      2],\n",
       "       [679619,      0,      2]])"
      ]
     },
     "execution_count": 19,
     "metadata": {},
     "output_type": "execute_result"
    }
   ],
   "source": [
    "events"
   ]
  },
  {
   "cell_type": "code",
   "execution_count": 24,
   "id": "51e89e29-521a-421c-90cc-38a56bdd2a95",
   "metadata": {},
   "outputs": [
    {
     "data": {
      "text/plain": [
       "28"
      ]
     },
     "execution_count": 24,
     "metadata": {},
     "output_type": "execute_result"
    }
   ],
   "source": [
    "len(events[events[:, 2] == 128]) #all rows with event no 4\n",
    "# 18 events of 4, 41 of 2, 28 of 128"
   ]
  },
  {
   "cell_type": "code",
   "execution_count": 50,
   "id": "b933ae1a-673b-4cba-81e4-e0ba7dc880c3",
   "metadata": {},
   "outputs": [
    {
     "data": {
      "text/plain": [
       "256.0"
      ]
     },
     "execution_count": 50,
     "metadata": {},
     "output_type": "execute_result"
    }
   ],
   "source": [
    "raw.info['sfreq'] #doubt what is sampling frequency"
   ]
  },
  {
   "cell_type": "code",
   "execution_count": 51,
   "id": "a5515fd0-d734-478b-9080-94b4d3a9c249",
   "metadata": {},
   "outputs": [
    {
     "data": {
      "text/plain": [
       "[]"
      ]
     },
     "execution_count": 51,
     "metadata": {},
     "output_type": "execute_result"
    }
   ],
   "source": [
    "raw.info['bads'] #no bad channels"
   ]
  },
  {
   "cell_type": "code",
   "execution_count": 52,
   "id": "c7b99348-b3af-428d-9bdf-302b705ff445",
   "metadata": {},
   "outputs": [
    {
     "data": {
      "text/plain": [
       "['A1', 'A2', 'A3', 'A4', 'A5', 'A6', 'A7', 'A8', 'A9', 'A10']"
      ]
     },
     "execution_count": 52,
     "metadata": {},
     "output_type": "execute_result"
    }
   ],
   "source": [
    "raw.ch_names[:10] #first 10 channels"
   ]
  },
  {
   "cell_type": "code",
   "execution_count": 53,
   "id": "63c3a6d0-b693-46ac-b301-72aca37baf69",
   "metadata": {},
   "outputs": [
    {
     "data": {
      "text/plain": [
       "{'cal': 1.0,\n",
       " 'logno': 1,\n",
       " 'scanno': 1,\n",
       " 'range': 1.0,\n",
       " 'unit_mul': 0 (FIFF_UNITM_NONE),\n",
       " 'ch_name': 'A1',\n",
       " 'unit': 107 (FIFF_UNIT_V),\n",
       " 'coord_frame': 4 (FIFFV_COORD_HEAD),\n",
       " 'coil_type': 1 (FIFFV_COIL_EEG),\n",
       " 'kind': 2 (FIFFV_EEG_CH),\n",
       " 'loc': array([0., 0., 0., 0., 0., 0., 0., 0., 0., 0., 0., 0.])}"
      ]
     },
     "execution_count": 53,
     "metadata": {},
     "output_type": "execute_result"
    }
   ],
   "source": [
    "raw.info['chs'][0]  #channel info #first channel info"
   ]
  },
  {
   "cell_type": "code",
   "execution_count": 54,
   "id": "6d5c42b3-c03c-4c98-9273-de61f458f665",
   "metadata": {},
   "outputs": [
    {
     "ename": "RuntimeError",
     "evalue": "No valid channel positions found",
     "output_type": "error",
     "traceback": [
      "\u001b[0;31m---------------------------------------------------------------------------\u001b[0m",
      "\u001b[0;31mRuntimeError\u001b[0m                              Traceback (most recent call last)",
      "\u001b[0;32m/var/folders/wg/n4lzr5p965ngqdcxry8zy3kc0000gn/T/ipykernel_99866/3968372536.py\u001b[0m in \u001b[0;36m<module>\u001b[0;34m\u001b[0m\n\u001b[0;32m----> 1\u001b[0;31m \u001b[0mraw\u001b[0m\u001b[0;34m.\u001b[0m\u001b[0mplot_sensors\u001b[0m\u001b[0;34m(\u001b[0m\u001b[0mch_type\u001b[0m\u001b[0;34m=\u001b[0m\u001b[0;34m'eeg'\u001b[0m\u001b[0;34m)\u001b[0m\u001b[0;34m\u001b[0m\u001b[0;34m\u001b[0m\u001b[0m\n\u001b[0m",
      "\u001b[0;32m<decorator-gen-36>\u001b[0m in \u001b[0;36mplot_sensors\u001b[0;34m(self, kind, ch_type, title, show_names, ch_groups, to_sphere, axes, block, show, sphere, verbose)\u001b[0m\n",
      "\u001b[0;32m~/opt/anaconda3/envs/mne/lib/python3.9/site-packages/mne/channels/channels.py\u001b[0m in \u001b[0;36mplot_sensors\u001b[0;34m(self, kind, ch_type, title, show_names, ch_groups, to_sphere, axes, block, show, sphere, verbose)\u001b[0m\n\u001b[1;32m    591\u001b[0m         \"\"\"\n\u001b[1;32m    592\u001b[0m         \u001b[0;32mfrom\u001b[0m \u001b[0;34m.\u001b[0m\u001b[0;34m.\u001b[0m\u001b[0mviz\u001b[0m\u001b[0;34m.\u001b[0m\u001b[0mutils\u001b[0m \u001b[0;32mimport\u001b[0m \u001b[0mplot_sensors\u001b[0m\u001b[0;34m\u001b[0m\u001b[0;34m\u001b[0m\u001b[0m\n\u001b[0;32m--> 593\u001b[0;31m         return plot_sensors(self.info, kind=kind, ch_type=ch_type, title=title,\n\u001b[0m\u001b[1;32m    594\u001b[0m                             \u001b[0mshow_names\u001b[0m\u001b[0;34m=\u001b[0m\u001b[0mshow_names\u001b[0m\u001b[0;34m,\u001b[0m \u001b[0mch_groups\u001b[0m\u001b[0;34m=\u001b[0m\u001b[0mch_groups\u001b[0m\u001b[0;34m,\u001b[0m\u001b[0;34m\u001b[0m\u001b[0;34m\u001b[0m\u001b[0m\n\u001b[1;32m    595\u001b[0m                             \u001b[0mto_sphere\u001b[0m\u001b[0;34m=\u001b[0m\u001b[0mto_sphere\u001b[0m\u001b[0;34m,\u001b[0m \u001b[0maxes\u001b[0m\u001b[0;34m=\u001b[0m\u001b[0maxes\u001b[0m\u001b[0;34m,\u001b[0m \u001b[0mblock\u001b[0m\u001b[0;34m=\u001b[0m\u001b[0mblock\u001b[0m\u001b[0;34m,\u001b[0m\u001b[0;34m\u001b[0m\u001b[0;34m\u001b[0m\u001b[0m\n",
      "\u001b[0;32m<decorator-gen-97>\u001b[0m in \u001b[0;36mplot_sensors\u001b[0;34m(info, kind, ch_type, title, show_names, ch_groups, to_sphere, axes, block, show, sphere, verbose)\u001b[0m\n",
      "\u001b[0;32m~/opt/anaconda3/envs/mne/lib/python3.9/site-packages/mne/viz/utils.py\u001b[0m in \u001b[0;36mplot_sensors\u001b[0;34m(info, kind, ch_type, title, show_names, ch_groups, to_sphere, axes, block, show, sphere, verbose)\u001b[0m\n\u001b[1;32m    908\u001b[0m     \u001b[0mchs\u001b[0m \u001b[0;34m=\u001b[0m \u001b[0;34m[\u001b[0m\u001b[0minfo\u001b[0m\u001b[0;34m[\u001b[0m\u001b[0;34m'chs'\u001b[0m\u001b[0;34m]\u001b[0m\u001b[0;34m[\u001b[0m\u001b[0mpick\u001b[0m\u001b[0;34m]\u001b[0m \u001b[0;32mfor\u001b[0m \u001b[0mpick\u001b[0m \u001b[0;32min\u001b[0m \u001b[0mpicks\u001b[0m\u001b[0;34m]\u001b[0m\u001b[0;34m\u001b[0m\u001b[0;34m\u001b[0m\u001b[0m\n\u001b[1;32m    909\u001b[0m     \u001b[0;32mif\u001b[0m \u001b[0;32mnot\u001b[0m \u001b[0m_check_ch_locs\u001b[0m\u001b[0;34m(\u001b[0m\u001b[0mchs\u001b[0m\u001b[0;34m)\u001b[0m\u001b[0;34m:\u001b[0m\u001b[0;34m\u001b[0m\u001b[0;34m\u001b[0m\u001b[0m\n\u001b[0;32m--> 910\u001b[0;31m         \u001b[0;32mraise\u001b[0m \u001b[0mRuntimeError\u001b[0m\u001b[0;34m(\u001b[0m\u001b[0;34m'No valid channel positions found'\u001b[0m\u001b[0;34m)\u001b[0m\u001b[0;34m\u001b[0m\u001b[0;34m\u001b[0m\u001b[0m\n\u001b[0m\u001b[1;32m    911\u001b[0m     \u001b[0mdev_head_t\u001b[0m \u001b[0;34m=\u001b[0m \u001b[0minfo\u001b[0m\u001b[0;34m[\u001b[0m\u001b[0;34m'dev_head_t'\u001b[0m\u001b[0;34m]\u001b[0m\u001b[0;34m\u001b[0m\u001b[0;34m\u001b[0m\u001b[0m\n\u001b[1;32m    912\u001b[0m     \u001b[0mpos\u001b[0m \u001b[0;34m=\u001b[0m \u001b[0mnp\u001b[0m\u001b[0;34m.\u001b[0m\u001b[0mempty\u001b[0m\u001b[0;34m(\u001b[0m\u001b[0;34m(\u001b[0m\u001b[0mlen\u001b[0m\u001b[0;34m(\u001b[0m\u001b[0mchs\u001b[0m\u001b[0;34m)\u001b[0m\u001b[0;34m,\u001b[0m \u001b[0;36m3\u001b[0m\u001b[0;34m)\u001b[0m\u001b[0;34m)\u001b[0m\u001b[0;34m\u001b[0m\u001b[0;34m\u001b[0m\u001b[0m\n",
      "\u001b[0;31mRuntimeError\u001b[0m: No valid channel positions found"
     ]
    }
   ],
   "source": [
    "raw.plot_sensors(ch_type='eeg') #doubt no valid channel positions found, continue\n",
    "# do we need "
   ]
  },
  {
   "cell_type": "code",
   "execution_count": null,
   "id": "78828360-a4cc-468b-af5b-75c222bb82ac",
   "metadata": {},
   "outputs": [],
   "source": []
  }
 ],
 "metadata": {
  "kernelspec": {
   "display_name": "Python 3 (ipykernel)",
   "language": "python",
   "name": "python3"
  },
  "language_info": {
   "codemirror_mode": {
    "name": "ipython",
    "version": 3
   },
   "file_extension": ".py",
   "mimetype": "text/x-python",
   "name": "python",
   "nbconvert_exporter": "python",
   "pygments_lexer": "ipython3",
   "version": "3.9.5"
  }
 },
 "nbformat": 4,
 "nbformat_minor": 5
}
