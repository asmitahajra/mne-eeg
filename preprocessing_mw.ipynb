{
 "cells": [
  {
   "cell_type": "code",
   "execution_count": 4,
   "id": "f79ece13-8051-4f19-9433-694ffcdc1c63",
   "metadata": {},
   "outputs": [],
   "source": [
    "import matplotlib\n",
    "import pathlib\n",
    "import mne\n",
    "import mne_bids #brain imaging data structure #convert dataset to bits compatible dataset, .fif is actual data, will be able to run tools that expect bits data"
   ]
  },
  {
   "cell_type": "code",
   "execution_count": 5,
   "id": "7c56b546-4ad4-4e4f-98fd-11634e20cf3e",
   "metadata": {},
   "outputs": [],
   "source": [
    "matplotlib.use('Qt5Agg')  #interactive"
   ]
  },
  {
   "cell_type": "code",
   "execution_count": 7,
   "id": "d244fa97-fb78-4c56-86d8-9b89571a904c",
   "metadata": {},
   "outputs": [],
   "source": [
    "data_path=\"/Users/Asmita_Hajra/Downloads/bidsexport\""
   ]
  },
  {
   "cell_type": "markdown",
   "id": "e835fa30-7c21-4fcb-8b84-fa8de85d749d",
   "metadata": {},
   "source": [
    "## Structure of directory"
   ]
  },
  {
   "cell_type": "code",
   "execution_count": 176,
   "id": "f943d012-6fb7-4462-8ed8-b63f4d85ea85",
   "metadata": {
    "collapsed": true,
    "jupyter": {
     "outputs_hidden": true
    },
    "tags": []
   },
   "outputs": [
    {
     "name": "stdout",
     "output_type": "stream",
     "text": [
      "|bidsexport/\n",
      "|--- .DS_Store\n",
      "|--- CHANGES\n",
      "|--- README\n",
      "|--- dataset_description.json\n",
      "|--- participants.json\n",
      "|--- participants.tsv\n",
      "|--- task-meditation_events.json\n",
      "|--- code/\n",
      "|------ run_mw_experiment6.m\n",
      "|--- stimuli/\n",
      "|------ cancel.wav\n",
      "|------ depth.wav\n",
      "|------ expe_over.wav\n",
      "|------ mind_wandering.wav\n",
      "|------ rate_meditation.wav\n",
      "|------ rate_mw.wav\n",
      "|------ rate_tired.wav\n",
      "|------ resume.wav\n",
      "|------ resumed.wav\n",
      "|------ resumemed.wav\n",
      "|------ self.wav\n",
      "|------ starting.wav\n",
      "|------ time.wav\n",
      "|------ valence.wav\n",
      "|--- sub-001/\n",
      "|------ .DS_Store\n",
      "|------ ses-01/\n",
      "|--------- .DS_Store\n",
      "|--------- eeg/\n",
      "|------------ sub-001_ses-01_task-meditation_channels.tsv\n",
      "|------------ sub-001_ses-01_task-meditation_eeg.bdf\n",
      "|------------ sub-001_ses-01_task-meditation_eeg.json\n",
      "|------------ sub-001_ses-01_task-meditation_events.tsv\n",
      "|------------ .ipynb_checkpoints/\n",
      "|--------------- sub-001_ses-01_task-meditation_channels-checkpoint.tsv\n",
      "|--------------- sub-001_ses-01_task-meditation_events-checkpoint.tsv\n",
      "|------ ses-02/\n",
      "|--------- eeg/\n",
      "|------------ sub-001_ses-02_task-meditation_channels.tsv\n",
      "|------------ sub-001_ses-02_task-meditation_eeg.bdf\n",
      "|------------ sub-001_ses-02_task-meditation_eeg.json\n",
      "|------------ sub-001_ses-02_task-meditation_events.tsv\n",
      "|--- sub-002/\n",
      "|------ ses-01/\n",
      "|--------- eeg/\n",
      "|------------ sub-002_ses-01_task-meditation_channels.tsv\n",
      "|------------ sub-002_ses-01_task-meditation_eeg.bdf\n",
      "|------------ sub-002_ses-01_task-meditation_eeg.json\n",
      "|------------ sub-002_ses-01_task-meditation_events.tsv\n",
      "|------ ses-02/\n",
      "|--------- eeg/\n",
      "|------------ sub-002_ses-02_task-meditation_channels.tsv\n",
      "|------------ sub-002_ses-02_task-meditation_eeg.bdf\n",
      "|------------ sub-002_ses-02_task-meditation_eeg.json\n",
      "|------------ sub-002_ses-02_task-meditation_events.tsv\n",
      "|--- sub-003/\n",
      "|------ ses-01/\n",
      "|--------- eeg/\n",
      "|------------ sub-003_ses-01_task-meditation_channels.tsv\n",
      "|------------ sub-003_ses-01_task-meditation_eeg.bdf\n",
      "|------------ sub-003_ses-01_task-meditation_eeg.json\n",
      "|------------ sub-003_ses-01_task-meditation_events.tsv\n",
      "|------ ses-02/\n",
      "|--------- eeg/\n",
      "|------------ sub-003_ses-02_task-meditation_channels.tsv\n",
      "|------------ sub-003_ses-02_task-meditation_eeg.bdf\n",
      "|------------ sub-003_ses-02_task-meditation_eeg.json\n",
      "|------------ sub-003_ses-02_task-meditation_events.tsv\n",
      "|--- sub-004/\n",
      "|------ ses-01/\n",
      "|--------- eeg/\n",
      "|------------ sub-004_ses-01_task-meditation_channels.tsv\n",
      "|------------ sub-004_ses-01_task-meditation_eeg.bdf\n",
      "|------------ sub-004_ses-01_task-meditation_eeg.json\n",
      "|------------ sub-004_ses-01_task-meditation_events.tsv\n",
      "|------ ses-02/\n",
      "|--------- eeg/\n",
      "|------------ sub-004_ses-02_task-meditation_channels.tsv\n",
      "|------------ sub-004_ses-02_task-meditation_eeg.bdf\n",
      "|------------ sub-004_ses-02_task-meditation_eeg.json\n",
      "|------------ sub-004_ses-02_task-meditation_events.tsv\n",
      "|--- sub-005/\n",
      "|------ ses-01/\n",
      "|--------- eeg/\n",
      "|------------ sub-005_ses-01_task-meditation_channels.tsv\n",
      "|------------ sub-005_ses-01_task-meditation_eeg.bdf\n",
      "|------------ sub-005_ses-01_task-meditation_eeg.json\n",
      "|------------ sub-005_ses-01_task-meditation_events.tsv\n",
      "|------ ses-02/\n",
      "|--------- eeg/\n",
      "|------------ sub-005_ses-02_task-meditation_channels.tsv\n",
      "|------------ sub-005_ses-02_task-meditation_eeg.bdf\n",
      "|------------ sub-005_ses-02_task-meditation_eeg.json\n",
      "|------------ sub-005_ses-02_task-meditation_events.tsv\n",
      "|--- sub-006/\n",
      "|------ ses-01/\n",
      "|--------- eeg/\n",
      "|------------ sub-006_ses-01_task-meditation_channels.tsv\n",
      "|------------ sub-006_ses-01_task-meditation_eeg.bdf\n",
      "|------------ sub-006_ses-01_task-meditation_eeg.json\n",
      "|------------ sub-006_ses-01_task-meditation_events.tsv\n",
      "|------ ses-02/\n",
      "|--------- eeg/\n",
      "|------------ sub-006_ses-02_task-meditation_channels.tsv\n",
      "|------------ sub-006_ses-02_task-meditation_eeg.bdf\n",
      "|------------ sub-006_ses-02_task-meditation_eeg.json\n",
      "|------------ sub-006_ses-02_task-meditation_events.tsv\n",
      "|--- sub-007/\n",
      "|------ ses-01/\n",
      "|--------- eeg/\n",
      "|------------ sub-007_ses-01_task-meditation_channels.tsv\n",
      "|------------ sub-007_ses-01_task-meditation_eeg.bdf\n",
      "|------------ sub-007_ses-01_task-meditation_eeg.json\n",
      "|------------ sub-007_ses-01_task-meditation_events.tsv\n",
      "|------ ses-02/\n",
      "|--------- eeg/\n",
      "|------------ sub-007_ses-02_task-meditation_channels.tsv\n",
      "|------------ sub-007_ses-02_task-meditation_eeg.bdf\n",
      "|------------ sub-007_ses-02_task-meditation_eeg.json\n",
      "|------------ sub-007_ses-02_task-meditation_events.tsv\n",
      "|--- sub-008/\n",
      "|------ ses-01/\n",
      "|--------- eeg/\n",
      "|------------ sub-008_ses-01_task-meditation_channels.tsv\n",
      "|------------ sub-008_ses-01_task-meditation_eeg.bdf\n",
      "|------------ sub-008_ses-01_task-meditation_eeg.json\n",
      "|------------ sub-008_ses-01_task-meditation_events.tsv\n",
      "|--- sub-009/\n",
      "|------ ses-01/\n",
      "|--------- eeg/\n",
      "|------------ sub-009_ses-01_task-meditation_channels.tsv\n",
      "|------------ sub-009_ses-01_task-meditation_eeg.bdf\n",
      "|------------ sub-009_ses-01_task-meditation_eeg.json\n",
      "|------------ sub-009_ses-01_task-meditation_events.tsv\n",
      "|------ ses-02/\n",
      "|--------- eeg/\n",
      "|------------ sub-009_ses-02_task-meditation_channels.tsv\n",
      "|------------ sub-009_ses-02_task-meditation_eeg.bdf\n",
      "|------------ sub-009_ses-02_task-meditation_eeg.json\n",
      "|------------ sub-009_ses-02_task-meditation_events.tsv\n",
      "|--- sub-010/\n",
      "|------ ses-01/\n",
      "|--------- eeg/\n",
      "|------------ sub-010_ses-01_task-meditation_channels.tsv\n",
      "|------------ sub-010_ses-01_task-meditation_eeg.bdf\n",
      "|------------ sub-010_ses-01_task-meditation_eeg.json\n",
      "|------------ sub-010_ses-01_task-meditation_events.tsv\n",
      "|------ ses-02/\n",
      "|--------- eeg/\n",
      "|------------ sub-010_ses-02_task-meditation_channels.tsv\n",
      "|------------ sub-010_ses-02_task-meditation_eeg.bdf\n",
      "|------------ sub-010_ses-02_task-meditation_eeg.json\n",
      "|------------ sub-010_ses-02_task-meditation_events.tsv\n",
      "|--- sub-011/\n",
      "|------ ses-01/\n",
      "|--------- eeg/\n",
      "|------------ sub-011_ses-01_task-meditation_channels.tsv\n",
      "|------------ sub-011_ses-01_task-meditation_eeg.bdf\n",
      "|------------ sub-011_ses-01_task-meditation_eeg.json\n",
      "|------------ sub-011_ses-01_task-meditation_events.tsv\n",
      "|------ ses-02/\n",
      "|--------- eeg/\n",
      "|------------ sub-011_ses-02_task-meditation_channels.tsv\n",
      "|------------ sub-011_ses-02_task-meditation_eeg.bdf\n",
      "|------------ sub-011_ses-02_task-meditation_eeg.json\n",
      "|------------ sub-011_ses-02_task-meditation_events.tsv\n",
      "|--- sub-012/\n",
      "|------ ses-01/\n",
      "|--------- eeg/\n",
      "|------------ sub-012_ses-01_task-meditation_channels.tsv\n",
      "|------------ sub-012_ses-01_task-meditation_eeg.bdf\n",
      "|------------ sub-012_ses-01_task-meditation_eeg.json\n",
      "|------------ sub-012_ses-01_task-meditation_events.tsv\n",
      "|--- sub-013/\n",
      "|------ ses-01/\n",
      "|--------- eeg/\n",
      "|------------ sub-013_ses-01_task-meditation_channels.tsv\n",
      "|------------ sub-013_ses-01_task-meditation_eeg.bdf\n",
      "|------------ sub-013_ses-01_task-meditation_eeg.json\n",
      "|------------ sub-013_ses-01_task-meditation_events.tsv\n",
      "|--- sub-014/\n",
      "|------ ses-01/\n",
      "|--------- eeg/\n",
      "|------------ sub-014_ses-01_task-meditation_channels.tsv\n",
      "|------------ sub-014_ses-01_task-meditation_eeg.bdf\n",
      "|------------ sub-014_ses-01_task-meditation_eeg.json\n",
      "|------------ sub-014_ses-01_task-meditation_events.tsv\n",
      "|--- sub-015/\n",
      "|------ ses-01/\n",
      "|--------- eeg/\n",
      "|------------ sub-015_ses-01_task-meditation_channels.tsv\n",
      "|------------ sub-015_ses-01_task-meditation_eeg.bdf\n",
      "|------------ sub-015_ses-01_task-meditation_eeg.json\n",
      "|------------ sub-015_ses-01_task-meditation_events.tsv\n",
      "|--- sub-016/\n",
      "|------ ses-01/\n",
      "|--------- eeg/\n",
      "|------------ sub-016_ses-01_task-meditation_channels.tsv\n",
      "|------------ sub-016_ses-01_task-meditation_eeg.bdf\n",
      "|------------ sub-016_ses-01_task-meditation_eeg.json\n",
      "|------------ sub-016_ses-01_task-meditation_events.tsv\n",
      "|------ ses-02/\n",
      "|--------- eeg/\n",
      "|------------ sub-016_ses-02_task-meditation_channels.tsv\n",
      "|------------ sub-016_ses-02_task-meditation_eeg.bdf\n",
      "|------------ sub-016_ses-02_task-meditation_eeg.json\n",
      "|------------ sub-016_ses-02_task-meditation_events.tsv\n",
      "|--- sub-017/\n",
      "|------ ses-01/\n",
      "|--------- eeg/\n",
      "|------------ sub-017_ses-01_task-meditation_channels.tsv\n",
      "|------------ sub-017_ses-01_task-meditation_eeg.bdf\n",
      "|------------ sub-017_ses-01_task-meditation_eeg.json\n",
      "|------------ sub-017_ses-01_task-meditation_events.tsv\n",
      "|------ ses-02/\n",
      "|--------- eeg/\n",
      "|------------ sub-017_ses-02_task-meditation_channels.tsv\n",
      "|------------ sub-017_ses-02_task-meditation_eeg.bdf\n",
      "|------------ sub-017_ses-02_task-meditation_eeg.json\n",
      "|------------ sub-017_ses-02_task-meditation_events.tsv\n",
      "|--- sub-018/\n",
      "|------ ses-01/\n",
      "|--------- eeg/\n",
      "|------------ sub-018_ses-01_task-meditation_channels.tsv\n",
      "|------------ sub-018_ses-01_task-meditation_eeg.bdf\n",
      "|------------ sub-018_ses-01_task-meditation_eeg.json\n",
      "|------------ sub-018_ses-01_task-meditation_events.tsv\n",
      "|------ ses-02/\n",
      "|--------- eeg/\n",
      "|------------ sub-018_ses-02_task-meditation_channels.tsv\n",
      "|------------ sub-018_ses-02_task-meditation_eeg.bdf\n",
      "|------------ sub-018_ses-02_task-meditation_eeg.json\n",
      "|------------ sub-018_ses-02_task-meditation_events.tsv\n",
      "|--- sub-019/\n",
      "|------ ses-01/\n",
      "|--------- eeg/\n",
      "|------------ sub-019_ses-01_task-meditation_channels.tsv\n",
      "|------------ sub-019_ses-01_task-meditation_eeg.bdf\n",
      "|------------ sub-019_ses-01_task-meditation_eeg.json\n",
      "|------------ sub-019_ses-01_task-meditation_events.tsv\n",
      "|--- sub-020/\n",
      "|------ ses-01/\n",
      "|--------- eeg/\n",
      "|------------ sub-020_ses-01_task-meditation_channels.tsv\n",
      "|------------ sub-020_ses-01_task-meditation_eeg.bdf\n",
      "|------------ sub-020_ses-01_task-meditation_eeg.json\n",
      "|------------ sub-020_ses-01_task-meditation_events.tsv\n",
      "|--- sub-021/\n",
      "|------ ses-01/\n",
      "|--------- eeg/\n",
      "|------------ sub-021_ses-01_task-meditation_channels.tsv\n",
      "|------------ sub-021_ses-01_task-meditation_eeg.bdf\n",
      "|------------ sub-021_ses-01_task-meditation_eeg.json\n",
      "|------------ sub-021_ses-01_task-meditation_events.tsv\n",
      "|--- sub-022/\n",
      "|------ ses-01/\n",
      "|--------- eeg/\n",
      "|------------ sub-022_ses-01_task-meditation_channels.tsv\n",
      "|------------ sub-022_ses-01_task-meditation_eeg.bdf\n",
      "|------------ sub-022_ses-01_task-meditation_eeg.json\n",
      "|------------ sub-022_ses-01_task-meditation_events.tsv\n",
      "|------ ses-02/\n",
      "|--------- eeg/\n",
      "|------------ sub-022_ses-02_task-meditation_channels.tsv\n",
      "|------------ sub-022_ses-02_task-meditation_eeg.bdf\n",
      "|------------ sub-022_ses-02_task-meditation_eeg.json\n",
      "|------------ sub-022_ses-02_task-meditation_events.tsv\n",
      "|------ ses-03/\n",
      "|--------- eeg/\n",
      "|------------ sub-022_ses-03_task-meditation_channels.tsv\n",
      "|------------ sub-022_ses-03_task-meditation_eeg.bdf\n",
      "|------------ sub-022_ses-03_task-meditation_eeg.json\n",
      "|------------ sub-022_ses-03_task-meditation_events.tsv\n",
      "|--- sub-023/\n",
      "|------ ses-01/\n",
      "|--------- eeg/\n",
      "|------------ sub-023_ses-01_task-meditation_channels.tsv\n",
      "|------------ sub-023_ses-01_task-meditation_eeg.bdf\n",
      "|------------ sub-023_ses-01_task-meditation_eeg.json\n",
      "|------------ sub-023_ses-01_task-meditation_events.tsv\n",
      "|------ ses-02/\n",
      "|--------- eeg/\n",
      "|------------ sub-023_ses-02_task-meditation_channels.tsv\n",
      "|------------ sub-023_ses-02_task-meditation_eeg.bdf\n",
      "|------------ sub-023_ses-02_task-meditation_eeg.json\n",
      "|------------ sub-023_ses-02_task-meditation_events.tsv\n",
      "|--- sub-024/\n",
      "|------ ses-01/\n",
      "|--------- eeg/\n",
      "|------------ sub-024_ses-01_task-meditation_channels.tsv\n",
      "|------------ sub-024_ses-01_task-meditation_eeg.bdf\n",
      "|------------ sub-024_ses-01_task-meditation_eeg.json\n",
      "|------------ sub-024_ses-01_task-meditation_events.tsv\n"
     ]
    }
   ],
   "source": [
    "mne_bids.print_dir_tree(data_path)"
   ]
  },
  {
   "cell_type": "markdown",
   "id": "0cad9218-17ff-4b50-afa2-f73568728518",
   "metadata": {},
   "source": [
    "## Report"
   ]
  },
  {
   "cell_type": "code",
   "execution_count": 177,
   "id": "82daad8f-93f1-4160-a582-f7efe840aba1",
   "metadata": {
    "tags": []
   },
   "outputs": [
    {
     "ename": "KeyError",
     "evalue": "'Authors'",
     "output_type": "error",
     "traceback": [
      "\u001b[0;31m---------------------------------------------------------------------------\u001b[0m",
      "\u001b[0;31mKeyError\u001b[0m                                  Traceback (most recent call last)",
      "\u001b[0;32m/var/folders/wg/n4lzr5p965ngqdcxry8zy3kc0000gn/T/ipykernel_99866/3670421096.py\u001b[0m in \u001b[0;36m<module>\u001b[0;34m\u001b[0m\n\u001b[0;32m----> 1\u001b[0;31m \u001b[0mprint\u001b[0m\u001b[0;34m(\u001b[0m\u001b[0mmne_bids\u001b[0m\u001b[0;34m.\u001b[0m\u001b[0mmake_report\u001b[0m\u001b[0;34m(\u001b[0m\u001b[0mdata_path\u001b[0m\u001b[0;34m)\u001b[0m\u001b[0;34m)\u001b[0m \u001b[0;31m#path to bids directory #no authors error\u001b[0m\u001b[0;34m\u001b[0m\u001b[0;34m\u001b[0m\u001b[0m\n\u001b[0m",
      "\u001b[0;32m~/opt/anaconda3/envs/mne/lib/python3.9/site-packages/mne_bids/report.py\u001b[0m in \u001b[0;36mmake_report\u001b[0;34m(root, session, verbose)\u001b[0m\n\u001b[1;32m    494\u001b[0m \u001b[0;34m\u001b[0m\u001b[0m\n\u001b[1;32m    495\u001b[0m     \u001b[0;31m# REQUIRED: dataset_description.json summary\u001b[0m\u001b[0;34m\u001b[0m\u001b[0;34m\u001b[0m\u001b[0;34m\u001b[0m\u001b[0m\n\u001b[0;32m--> 496\u001b[0;31m     \u001b[0mdataset_summary\u001b[0m \u001b[0;34m=\u001b[0m \u001b[0m_summarize_dataset\u001b[0m\u001b[0;34m(\u001b[0m\u001b[0mroot\u001b[0m\u001b[0;34m)\u001b[0m\u001b[0;34m\u001b[0m\u001b[0;34m\u001b[0m\u001b[0m\n\u001b[0m\u001b[1;32m    497\u001b[0m \u001b[0;34m\u001b[0m\u001b[0m\n\u001b[1;32m    498\u001b[0m     \u001b[0;31m# RECOMMENDED: participants summary\u001b[0m\u001b[0;34m\u001b[0m\u001b[0;34m\u001b[0m\u001b[0;34m\u001b[0m\u001b[0m\n",
      "\u001b[0;32m~/opt/anaconda3/envs/mne/lib/python3.9/site-packages/mne_bids/report.py\u001b[0m in \u001b[0;36m_summarize_dataset\u001b[0;34m(root)\u001b[0m\n\u001b[1;32m    164\u001b[0m     \u001b[0mname\u001b[0m \u001b[0;34m=\u001b[0m \u001b[0mdataset_description\u001b[0m\u001b[0;34m[\u001b[0m\u001b[0;34m'Name'\u001b[0m\u001b[0;34m]\u001b[0m\u001b[0;34m\u001b[0m\u001b[0;34m\u001b[0m\u001b[0m\n\u001b[1;32m    165\u001b[0m     \u001b[0mbids_version\u001b[0m \u001b[0;34m=\u001b[0m \u001b[0mdataset_description\u001b[0m\u001b[0;34m[\u001b[0m\u001b[0;34m'BIDSVersion'\u001b[0m\u001b[0;34m]\u001b[0m\u001b[0;34m\u001b[0m\u001b[0;34m\u001b[0m\u001b[0m\n\u001b[0;32m--> 166\u001b[0;31m     \u001b[0mauthors\u001b[0m \u001b[0;34m=\u001b[0m \u001b[0mdataset_description\u001b[0m\u001b[0;34m[\u001b[0m\u001b[0;34m'Authors'\u001b[0m\u001b[0;34m]\u001b[0m\u001b[0;34m\u001b[0m\u001b[0;34m\u001b[0m\u001b[0m\n\u001b[0m\u001b[1;32m    167\u001b[0m     template_dict = {\n\u001b[1;32m    168\u001b[0m         \u001b[0;34m'name'\u001b[0m\u001b[0;34m:\u001b[0m \u001b[0mname\u001b[0m\u001b[0;34m,\u001b[0m\u001b[0;34m\u001b[0m\u001b[0;34m\u001b[0m\u001b[0m\n",
      "\u001b[0;31mKeyError\u001b[0m: 'Authors'"
     ]
    }
   ],
   "source": [
    "print(mne_bids.make_report(data_path)) #path to bids directory #doubt, no authors thus error"
   ]
  },
  {
   "cell_type": "markdown",
   "id": "53f5d162-1494-4c49-88cc-8bd5296ac105",
   "metadata": {},
   "source": [
    "## Reading BIDS data-> analyzing raw data\n",
    "\n"
   ]
  },
  {
   "cell_type": "code",
   "execution_count": 178,
   "id": "4403970c-7be0-4449-93e8-d8b3f88f6ded",
   "metadata": {},
   "outputs": [
    {
     "name": "stdout",
     "output_type": "stream",
     "text": [
      "Extracting EDF parameters from /Users/Asmita_Hajra/Downloads/bidsexport/sub-001/ses-02/eeg/sub-001_ses-02_task-meditation_eeg.bdf...\n",
      "BDF file detected\n",
      "Setting channel info structure...\n",
      "Creating raw.info structure...\n",
      "Reading events from /Users/Asmita_Hajra/Downloads/bidsexport/sub-001/ses-02/eeg/sub-001_ses-02_task-meditation_events.tsv.\n",
      "The event \"response\" refers to multiple event values. Creating hierarchical event names.\n",
      "    Renaming event: response -> response/4\n",
      "    Renaming event: response -> response/2\n",
      "    Renaming event: response -> response/2\n",
      "    Renaming event: response -> response/2\n",
      "    Renaming event: response -> response/4\n",
      "    Renaming event: response -> response/2\n",
      "    Renaming event: response -> response/2\n",
      "    Renaming event: response -> response/2\n",
      "    Renaming event: response -> response/4\n",
      "    Renaming event: response -> response/4\n",
      "    Renaming event: response -> response/4\n",
      "    Renaming event: response -> response/4\n",
      "    Renaming event: response -> response/2\n",
      "    Renaming event: response -> response/4\n",
      "    Renaming event: response -> response/4\n",
      "    Renaming event: response -> response/2\n",
      "    Renaming event: response -> response/2\n",
      "    Renaming event: response -> response/2\n",
      "    Renaming event: response -> response/2\n",
      "    Renaming event: response -> response/4\n",
      "    Renaming event: response -> response/2\n",
      "    Renaming event: response -> response/2\n",
      "    Renaming event: response -> response/2\n",
      "    Renaming event: response -> response/4\n",
      "    Renaming event: response -> response/2\n",
      "    Renaming event: response -> response/4\n",
      "    Renaming event: response -> response/2\n",
      "    Renaming event: response -> response/2\n",
      "    Renaming event: response -> response/2\n",
      "    Renaming event: response -> response/2\n",
      "    Renaming event: response -> response/2\n",
      "    Renaming event: response -> response/4\n",
      "    Renaming event: response -> response/2\n",
      "    Renaming event: response -> response/4\n",
      "    Renaming event: response -> response/2\n",
      "    Renaming event: response -> response/2\n",
      "    Renaming event: response -> response/4\n",
      "    Renaming event: response -> response/2\n",
      "    Renaming event: response -> response/2\n",
      "    Renaming event: response -> response/2\n",
      "    Renaming event: response -> response/2\n",
      "    Renaming event: response -> response/2\n",
      "    Renaming event: response -> response/2\n",
      "    Renaming event: response -> response/2\n",
      "    Renaming event: response -> response/2\n",
      "    Renaming event: response -> response/2\n",
      "    Renaming event: response -> response/4\n",
      "    Renaming event: response -> response/4\n",
      "    Renaming event: response -> response/2\n",
      "    Renaming event: response -> response/2\n",
      "    Renaming event: response -> response/4\n",
      "    Renaming event: response -> response/2\n",
      "    Renaming event: response -> response/4\n",
      "    Renaming event: response -> response/4\n",
      "    Renaming event: response -> response/2\n",
      "    Renaming event: response -> response/4\n",
      "    Renaming event: response -> response/2\n",
      "    Renaming event: response -> response/2\n",
      "    Renaming event: response -> response/4\n",
      "    Renaming event: response -> response/2\n",
      "    Renaming event: response -> response/2\n",
      "    Renaming event: response -> response/4\n",
      "    Renaming event: response -> response/4\n",
      "    Renaming event: response -> response/2\n",
      "    Renaming event: response -> response/4\n",
      "    Renaming event: response -> response/4\n",
      "    Renaming event: response -> response/2\n",
      "    Renaming event: response -> response/4\n",
      "    Renaming event: response -> response/2\n",
      "    Renaming event: response -> response/4\n",
      "    Renaming event: response -> response/4\n",
      "    Renaming event: response -> response/2\n",
      "    Renaming event: response -> response/4\n",
      "    Renaming event: response -> response/4\n",
      "Reading channel info from /Users/Asmita_Hajra/Downloads/bidsexport/sub-001/ses-02/eeg/sub-001_ses-02_task-meditation_channels.tsv.\n"
     ]
    }
   ],
   "source": [
    "bids_path = mne_bids.BIDSPath(subject='001',\n",
    "                              session='02',\n",
    "                              task='meditation',\n",
    "                              # run='01', #doubt what is run number\n",
    "                              datatype='eeg', #will have a folder with datatype as name\n",
    "                              root=data_path)\n",
    "\n",
    "raw = mne_bids.read_raw_bids(bids_path)\n",
    "#reads event and channel info"
   ]
  },
  {
   "cell_type": "code",
   "execution_count": 179,
   "id": "47076922-b33c-4e33-87e2-8080efee147f",
   "metadata": {},
   "outputs": [
    {
     "data": {
      "text/plain": [
       "<MNEBrowseFigure size 2202x1054 with 4 Axes>"
      ]
     },
     "execution_count": 179,
     "metadata": {},
     "output_type": "execute_result"
    }
   ],
   "source": [
    "raw.plot()"
   ]
  },
  {
   "cell_type": "code",
   "execution_count": 133,
   "id": "4c43a018-81a4-40f0-976f-9207f8e8c806",
   "metadata": {},
   "outputs": [],
   "source": [
    "# events = mne.find_events(raw) # doubt meaning of below\n",
    "# doubt do we use events_True\n",
    "\n",
    "#If True (default False), an event is created if the stim channel has a value different from 0 as its first sample. This is useful if an event at t=0s is present"
   ]
  },
  {
   "cell_type": "code",
   "execution_count": 83,
   "id": "1b548b74-b8c2-4276-b548-91225d89c7fd",
   "metadata": {},
   "outputs": [],
   "source": [
    "# event_id = {\n",
    "#     'response/2': 2,\n",
    "#     'response/4': 4,\n",
    "#     'stimulus': 128\n",
    "# }\n",
    "# event_id"
   ]
  },
  {
   "cell_type": "code",
   "execution_count": 55,
   "id": "b7bed07b-8675-412c-bd1e-eb41fbf808c1",
   "metadata": {},
   "outputs": [
    {
     "data": {
      "text/plain": [
       "<MNEBrowseFigure size 2202x1054 with 4 Axes>"
      ]
     },
     "execution_count": 55,
     "metadata": {},
     "output_type": "execute_result"
    },
    {
     "name": "stdout",
     "output_type": "stream",
     "text": [
      "Channels marked as bad: none\n"
     ]
    }
   ],
   "source": [
    "# raw.plot(events=events, event_id=event_id) \n",
    "\n",
    "#mne bids finds the events it fi"
   ]
  },
  {
   "cell_type": "code",
   "execution_count": 184,
   "id": "aa0e68f0-541c-4319-b7c6-a223205ac8bb",
   "metadata": {},
   "outputs": [
    {
     "data": {
      "text/html": [
       "\n",
       "<table class=\"table table-hover\">\n",
       "    <tr>\n",
       "        <th>Measurement date</th>\n",
       "        <td>April 04, 2014  20:30:06 GMT</td>\n",
       "        \n",
       "    </tr>\n",
       "    <tr>\n",
       "        <th>Experimenter</th>\n",
       "<td>Unknown</td>\n",
       "    </tr>\n",
       "        <th>Participant</th>\n",
       "            <td>sub-001</td>\n",
       "        \n",
       "    </tr>\n",
       "    <tr>\n",
       "        <th>Digitized points</th>\n",
       "        <td>Not available</td>\n",
       "    </tr>\n",
       "    <tr>\n",
       "        <th>Good channels</th>\n",
       "        <td>0 magnetometer, 0 gradiometer,\n",
       "            and 68 EEG channels</td>\n",
       "    </tr>\n",
       "    <tr>\n",
       "        <th>Bad channels</th>\n",
       "        <td></td>\n",
       "        \n",
       "    </tr>\n",
       "    <tr>\n",
       "        <th>EOG channels</th>\n",
       "        <td>Not available</td>\n",
       "    </tr>\n",
       "    <tr>\n",
       "        <th>ECG channels</th>\n",
       "        <td>Not available</td>\n",
       "    <tr>\n",
       "        <th>Sampling frequency</th>\n",
       "        <td>256.00 Hz</td>\n",
       "    </tr>\n",
       "    <tr>\n",
       "        <th>Highpass</th>\n",
       "        <td>0.00 Hz</td>\n",
       "    </tr>\n",
       "     <tr>\n",
       "        <th>Lowpass</th>\n",
       "        <td>52.00 Hz</td>\n",
       "    </tr>\n",
       "</table>\n"
      ],
      "text/plain": [
       "<Info | 9 non-empty values\n",
       " bads: []\n",
       " ch_names: A1, A2, A3, A4, A5, A6, A7, A8, A9, A10, A11, A12, A13, A14, ...\n",
       " chs: 68 EEG, 10 MISC, 1 RESP, 1 STIM\n",
       " custom_ref_applied: False\n",
       " highpass: 0.0 Hz\n",
       " line_freq: 50\n",
       " lowpass: 52.0 Hz\n",
       " meas_date: 2014-04-04 20:30:06 UTC\n",
       " nchan: 80\n",
       " projs: []\n",
       " sfreq: 256.0 Hz\n",
       " subject_info: 4 items (dict)\n",
       ">"
      ]
     },
     "execution_count": 184,
     "metadata": {},
     "output_type": "execute_result"
    }
   ],
   "source": [
    "raw.info"
   ]
  },
  {
   "cell_type": "code",
   "execution_count": 185,
   "id": "9b9860b8-e8fa-474e-b1ab-48e84d928ada",
   "metadata": {
    "tags": []
   },
   "outputs": [],
   "source": [
    "# events"
   ]
  },
  {
   "cell_type": "code",
   "execution_count": 186,
   "id": "51e89e29-521a-421c-90cc-38a56bdd2a95",
   "metadata": {},
   "outputs": [],
   "source": [
    "# len(events[events[:, 2] == 4]) #all rows with event no 4\n",
    "# 18 events of 4, 41 of 2, 28 of 128"
   ]
  },
  {
   "cell_type": "code",
   "execution_count": 187,
   "id": "b933ae1a-673b-4cba-81e4-e0ba7dc880c3",
   "metadata": {},
   "outputs": [
    {
     "data": {
      "text/plain": [
       "256.0"
      ]
     },
     "execution_count": 187,
     "metadata": {},
     "output_type": "execute_result"
    }
   ],
   "source": [
    "raw.info['sfreq'] "
   ]
  },
  {
   "cell_type": "code",
   "execution_count": 188,
   "id": "a5515fd0-d734-478b-9080-94b4d3a9c249",
   "metadata": {},
   "outputs": [
    {
     "data": {
      "text/plain": [
       "[]"
      ]
     },
     "execution_count": 188,
     "metadata": {},
     "output_type": "execute_result"
    }
   ],
   "source": [
    "raw.info['bads'] #no bad channels"
   ]
  },
  {
   "cell_type": "code",
   "execution_count": 189,
   "id": "c7b99348-b3af-428d-9bdf-302b705ff445",
   "metadata": {},
   "outputs": [
    {
     "data": {
      "text/plain": [
       "['A1', 'A2', 'A3', 'A4', 'A5', 'A6', 'A7', 'A8', 'A9', 'A10']"
      ]
     },
     "execution_count": 189,
     "metadata": {},
     "output_type": "execute_result"
    }
   ],
   "source": [
    "raw.ch_names[:10] #first 10 channels"
   ]
  },
  {
   "cell_type": "code",
   "execution_count": 190,
   "id": "6f8e8a1d-39ad-493e-bd28-3a6521b27ff5",
   "metadata": {},
   "outputs": [
    {
     "data": {
      "text/plain": [
       "80"
      ]
     },
     "execution_count": 190,
     "metadata": {},
     "output_type": "execute_result"
    }
   ],
   "source": [
    "len(raw.ch_names) #80 is length"
   ]
  },
  {
   "cell_type": "code",
   "execution_count": 191,
   "id": "ebdebc10-cf60-4e30-9722-16ed472b7370",
   "metadata": {
    "collapsed": true,
    "jupyter": {
     "outputs_hidden": true
    },
    "tags": []
   },
   "outputs": [
    {
     "data": {
      "text/plain": [
       "['A1',\n",
       " 'A2',\n",
       " 'A3',\n",
       " 'A4',\n",
       " 'A5',\n",
       " 'A6',\n",
       " 'A7',\n",
       " 'A8',\n",
       " 'A9',\n",
       " 'A10',\n",
       " 'A11',\n",
       " 'A12',\n",
       " 'A13',\n",
       " 'A14',\n",
       " 'A15',\n",
       " 'A16',\n",
       " 'A17',\n",
       " 'A18',\n",
       " 'A19',\n",
       " 'A20',\n",
       " 'A21',\n",
       " 'A22',\n",
       " 'A23',\n",
       " 'A24',\n",
       " 'A25',\n",
       " 'A26',\n",
       " 'A27',\n",
       " 'A28',\n",
       " 'A29',\n",
       " 'A30',\n",
       " 'A31',\n",
       " 'A32',\n",
       " 'B1',\n",
       " 'B2',\n",
       " 'B3',\n",
       " 'B4',\n",
       " 'B5',\n",
       " 'B6',\n",
       " 'B7',\n",
       " 'B8',\n",
       " 'B9',\n",
       " 'B10',\n",
       " 'B11',\n",
       " 'B12',\n",
       " 'B13',\n",
       " 'B14',\n",
       " 'B15',\n",
       " 'B16',\n",
       " 'B17',\n",
       " 'B18',\n",
       " 'B19',\n",
       " 'B20',\n",
       " 'B21',\n",
       " 'B22',\n",
       " 'B23',\n",
       " 'B24',\n",
       " 'B25',\n",
       " 'B26',\n",
       " 'B27',\n",
       " 'B28',\n",
       " 'B29',\n",
       " 'B30',\n",
       " 'B31',\n",
       " 'B32',\n",
       " 'EXG1',\n",
       " 'EXG2',\n",
       " 'EXG3',\n",
       " 'EXG4',\n",
       " 'EXG5',\n",
       " 'EXG6',\n",
       " 'EXG7',\n",
       " 'EXG8',\n",
       " 'GSR1',\n",
       " 'GSR2',\n",
       " 'Erg1',\n",
       " 'Erg2',\n",
       " 'Resp',\n",
       " 'Plet',\n",
       " 'Temp',\n",
       " 'Status']"
      ]
     },
     "execution_count": 191,
     "metadata": {},
     "output_type": "execute_result"
    }
   ],
   "source": [
    "raw.ch_names"
   ]
  },
  {
   "cell_type": "code",
   "execution_count": 192,
   "id": "63c3a6d0-b693-46ac-b301-72aca37baf69",
   "metadata": {},
   "outputs": [
    {
     "data": {
      "text/plain": [
       "{'cal': 1.0,\n",
       " 'logno': 1,\n",
       " 'scanno': 1,\n",
       " 'range': 1.0,\n",
       " 'unit_mul': 0 (FIFF_UNITM_NONE),\n",
       " 'ch_name': 'A1',\n",
       " 'unit': 107 (FIFF_UNIT_V),\n",
       " 'coord_frame': 4 (FIFFV_COORD_HEAD),\n",
       " 'coil_type': 1 (FIFFV_COIL_EEG),\n",
       " 'kind': 2 (FIFFV_EEG_CH),\n",
       " 'loc': array([0., 0., 0., 0., 0., 0., 0., 0., 0., 0., 0., 0.])}"
      ]
     },
     "execution_count": 192,
     "metadata": {},
     "output_type": "execute_result"
    }
   ],
   "source": [
    "raw.info['chs'][0]  #channel info #first channel info"
   ]
  },
  {
   "cell_type": "code",
   "execution_count": 193,
   "id": "6d5c42b3-c03c-4c98-9273-de61f458f665",
   "metadata": {},
   "outputs": [
    {
     "ename": "RuntimeError",
     "evalue": "No valid channel positions found",
     "output_type": "error",
     "traceback": [
      "\u001b[0;31m---------------------------------------------------------------------------\u001b[0m",
      "\u001b[0;31mRuntimeError\u001b[0m                              Traceback (most recent call last)",
      "\u001b[0;32m/var/folders/wg/n4lzr5p965ngqdcxry8zy3kc0000gn/T/ipykernel_99866/3664532289.py\u001b[0m in \u001b[0;36m<module>\u001b[0;34m\u001b[0m\n\u001b[0;32m----> 1\u001b[0;31m \u001b[0mraw\u001b[0m\u001b[0;34m.\u001b[0m\u001b[0mplot_sensors\u001b[0m\u001b[0;34m(\u001b[0m\u001b[0mch_type\u001b[0m\u001b[0;34m=\u001b[0m\u001b[0;34m'eeg'\u001b[0m\u001b[0;34m)\u001b[0m \u001b[0;31m#doubt no valid channel positions found, continue\u001b[0m\u001b[0;34m\u001b[0m\u001b[0;34m\u001b[0m\u001b[0m\n\u001b[0m\u001b[1;32m      2\u001b[0m \u001b[0;31m# do we need\u001b[0m\u001b[0;34m\u001b[0m\u001b[0;34m\u001b[0m\u001b[0;34m\u001b[0m\u001b[0m\n",
      "\u001b[0;32m<decorator-gen-36>\u001b[0m in \u001b[0;36mplot_sensors\u001b[0;34m(self, kind, ch_type, title, show_names, ch_groups, to_sphere, axes, block, show, sphere, verbose)\u001b[0m\n",
      "\u001b[0;32m~/opt/anaconda3/envs/mne/lib/python3.9/site-packages/mne/channels/channels.py\u001b[0m in \u001b[0;36mplot_sensors\u001b[0;34m(self, kind, ch_type, title, show_names, ch_groups, to_sphere, axes, block, show, sphere, verbose)\u001b[0m\n\u001b[1;32m    591\u001b[0m         \"\"\"\n\u001b[1;32m    592\u001b[0m         \u001b[0;32mfrom\u001b[0m \u001b[0;34m.\u001b[0m\u001b[0;34m.\u001b[0m\u001b[0mviz\u001b[0m\u001b[0;34m.\u001b[0m\u001b[0mutils\u001b[0m \u001b[0;32mimport\u001b[0m \u001b[0mplot_sensors\u001b[0m\u001b[0;34m\u001b[0m\u001b[0;34m\u001b[0m\u001b[0m\n\u001b[0;32m--> 593\u001b[0;31m         return plot_sensors(self.info, kind=kind, ch_type=ch_type, title=title,\n\u001b[0m\u001b[1;32m    594\u001b[0m                             \u001b[0mshow_names\u001b[0m\u001b[0;34m=\u001b[0m\u001b[0mshow_names\u001b[0m\u001b[0;34m,\u001b[0m \u001b[0mch_groups\u001b[0m\u001b[0;34m=\u001b[0m\u001b[0mch_groups\u001b[0m\u001b[0;34m,\u001b[0m\u001b[0;34m\u001b[0m\u001b[0;34m\u001b[0m\u001b[0m\n\u001b[1;32m    595\u001b[0m                             \u001b[0mto_sphere\u001b[0m\u001b[0;34m=\u001b[0m\u001b[0mto_sphere\u001b[0m\u001b[0;34m,\u001b[0m \u001b[0maxes\u001b[0m\u001b[0;34m=\u001b[0m\u001b[0maxes\u001b[0m\u001b[0;34m,\u001b[0m \u001b[0mblock\u001b[0m\u001b[0;34m=\u001b[0m\u001b[0mblock\u001b[0m\u001b[0;34m,\u001b[0m\u001b[0;34m\u001b[0m\u001b[0;34m\u001b[0m\u001b[0m\n",
      "\u001b[0;32m<decorator-gen-97>\u001b[0m in \u001b[0;36mplot_sensors\u001b[0;34m(info, kind, ch_type, title, show_names, ch_groups, to_sphere, axes, block, show, sphere, verbose)\u001b[0m\n",
      "\u001b[0;32m~/opt/anaconda3/envs/mne/lib/python3.9/site-packages/mne/viz/utils.py\u001b[0m in \u001b[0;36mplot_sensors\u001b[0;34m(info, kind, ch_type, title, show_names, ch_groups, to_sphere, axes, block, show, sphere, verbose)\u001b[0m\n\u001b[1;32m    908\u001b[0m     \u001b[0mchs\u001b[0m \u001b[0;34m=\u001b[0m \u001b[0;34m[\u001b[0m\u001b[0minfo\u001b[0m\u001b[0;34m[\u001b[0m\u001b[0;34m'chs'\u001b[0m\u001b[0;34m]\u001b[0m\u001b[0;34m[\u001b[0m\u001b[0mpick\u001b[0m\u001b[0;34m]\u001b[0m \u001b[0;32mfor\u001b[0m \u001b[0mpick\u001b[0m \u001b[0;32min\u001b[0m \u001b[0mpicks\u001b[0m\u001b[0;34m]\u001b[0m\u001b[0;34m\u001b[0m\u001b[0;34m\u001b[0m\u001b[0m\n\u001b[1;32m    909\u001b[0m     \u001b[0;32mif\u001b[0m \u001b[0;32mnot\u001b[0m \u001b[0m_check_ch_locs\u001b[0m\u001b[0;34m(\u001b[0m\u001b[0mchs\u001b[0m\u001b[0;34m)\u001b[0m\u001b[0;34m:\u001b[0m\u001b[0;34m\u001b[0m\u001b[0;34m\u001b[0m\u001b[0m\n\u001b[0;32m--> 910\u001b[0;31m         \u001b[0;32mraise\u001b[0m \u001b[0mRuntimeError\u001b[0m\u001b[0;34m(\u001b[0m\u001b[0;34m'No valid channel positions found'\u001b[0m\u001b[0;34m)\u001b[0m\u001b[0;34m\u001b[0m\u001b[0;34m\u001b[0m\u001b[0m\n\u001b[0m\u001b[1;32m    911\u001b[0m     \u001b[0mdev_head_t\u001b[0m \u001b[0;34m=\u001b[0m \u001b[0minfo\u001b[0m\u001b[0;34m[\u001b[0m\u001b[0;34m'dev_head_t'\u001b[0m\u001b[0;34m]\u001b[0m\u001b[0;34m\u001b[0m\u001b[0;34m\u001b[0m\u001b[0m\n\u001b[1;32m    912\u001b[0m     \u001b[0mpos\u001b[0m \u001b[0;34m=\u001b[0m \u001b[0mnp\u001b[0m\u001b[0;34m.\u001b[0m\u001b[0mempty\u001b[0m\u001b[0;34m(\u001b[0m\u001b[0;34m(\u001b[0m\u001b[0mlen\u001b[0m\u001b[0;34m(\u001b[0m\u001b[0mchs\u001b[0m\u001b[0;34m)\u001b[0m\u001b[0;34m,\u001b[0m \u001b[0;36m3\u001b[0m\u001b[0;34m)\u001b[0m\u001b[0;34m)\u001b[0m\u001b[0;34m\u001b[0m\u001b[0;34m\u001b[0m\u001b[0m\n",
      "\u001b[0;31mRuntimeError\u001b[0m: No valid channel positions found"
     ]
    }
   ],
   "source": [
    "raw.plot_sensors(ch_type='eeg') #doubt no valid channel positions found, continue\n",
    "# do we need electrodes file"
   ]
  },
  {
   "cell_type": "code",
   "execution_count": 194,
   "id": "14ea6bf5-9686-4dff-900e-50b5c5338cb4",
   "metadata": {},
   "outputs": [
    {
     "data": {
      "text/plain": [
       "OrderedDict([('onset', 2703.628906),\n",
       "             ('duration', 0.0),\n",
       "             ('description', 'response/4'),\n",
       "             ('orig_time',\n",
       "              datetime.datetime(2014, 4, 4, 20, 30, 6, tzinfo=datetime.timezone.utc))])"
      ]
     },
     "execution_count": 194,
     "metadata": {},
     "output_type": "execute_result"
    }
   ],
   "source": [
    "raw.annotations[0]\n",
    "raw.annotations[-1]"
   ]
  },
  {
   "cell_type": "code",
   "execution_count": 195,
   "id": "78828360-a4cc-468b-af5b-75c222bb82ac",
   "metadata": {
    "collapsed": true,
    "jupyter": {
     "outputs_hidden": true
    },
    "tags": []
   },
   "outputs": [
    {
     "data": {
      "text/plain": [
       "\u001b[0;31mSignature:\u001b[0m\n",
       "\u001b[0mmne\u001b[0m\u001b[0;34m.\u001b[0m\u001b[0mevents_from_annotations\u001b[0m\u001b[0;34m(\u001b[0m\u001b[0;34m\u001b[0m\n",
       "\u001b[0;34m\u001b[0m    \u001b[0mraw\u001b[0m\u001b[0;34m,\u001b[0m\u001b[0;34m\u001b[0m\n",
       "\u001b[0;34m\u001b[0m    \u001b[0mevent_id\u001b[0m\u001b[0;34m=\u001b[0m\u001b[0;34m'auto'\u001b[0m\u001b[0;34m,\u001b[0m\u001b[0;34m\u001b[0m\n",
       "\u001b[0;34m\u001b[0m    \u001b[0mregexp\u001b[0m\u001b[0;34m=\u001b[0m\u001b[0;34m'^(?![Bb][Aa][Dd]|[Ee][Dd][Gg][Ee]).*$'\u001b[0m\u001b[0;34m,\u001b[0m\u001b[0;34m\u001b[0m\n",
       "\u001b[0;34m\u001b[0m    \u001b[0muse_rounding\u001b[0m\u001b[0;34m=\u001b[0m\u001b[0;32mTrue\u001b[0m\u001b[0;34m,\u001b[0m\u001b[0;34m\u001b[0m\n",
       "\u001b[0;34m\u001b[0m    \u001b[0mchunk_duration\u001b[0m\u001b[0;34m=\u001b[0m\u001b[0;32mNone\u001b[0m\u001b[0;34m,\u001b[0m\u001b[0;34m\u001b[0m\n",
       "\u001b[0;34m\u001b[0m    \u001b[0mverbose\u001b[0m\u001b[0;34m=\u001b[0m\u001b[0;32mNone\u001b[0m\u001b[0;34m,\u001b[0m\u001b[0;34m\u001b[0m\n",
       "\u001b[0;34m\u001b[0m\u001b[0;34m)\u001b[0m\u001b[0;34m\u001b[0m\u001b[0;34m\u001b[0m\u001b[0m\n",
       "\u001b[0;31mDocstring:\u001b[0m\n",
       "Get events and event_id from an Annotations object.\n",
       "\n",
       "Parameters\n",
       "----------\n",
       "raw : instance of Raw\n",
       "    The raw data for which Annotations are defined.\n",
       "event_id : dict | callable | None | 'auto'\n",
       "    Can be:\n",
       "\n",
       "    - **dict**: map descriptions (keys) to integer event codes (values).\n",
       "      Only the descriptions present will be mapped, others will be ignored.\n",
       "    - **callable**: must take a string input and return an integer event\n",
       "      code, or return ``None`` to ignore the event.\n",
       "    - **None**: Map descriptions to unique integer values based on their\n",
       "      ``sorted`` order.\n",
       "    - **'auto' (default)**: prefer a raw-format-specific parser:\n",
       "\n",
       "      - Brainvision: map stimulus events to their integer part; response\n",
       "        events to integer part + 1000; optic events to integer part + 2000;\n",
       "        'SyncStatus/Sync On' to 99998; 'New Segment/' to 99999;\n",
       "        all others like ``None`` with an offset of 10000.\n",
       "      - Other raw formats: Behaves like None.\n",
       "\n",
       "      .. versionadded:: 0.18\n",
       "regexp : str | None\n",
       "    Regular expression used to filter the annotations whose\n",
       "    descriptions is a match. The default ignores descriptions beginning\n",
       "    ``'bad'`` or ``'edge'`` (case-insensitive).\n",
       "\n",
       "    .. versionchanged:: 0.18\n",
       "       Default ignores bad and edge descriptions.\n",
       "use_rounding : bool\n",
       "    If True, use rounding (instead of truncation) when converting\n",
       "    times to indices. This can help avoid non-unique indices.\n",
       "chunk_duration : float | None\n",
       "    Chunk duration in seconds. If ``chunk_duration`` is set to None\n",
       "    (default), generated events correspond to the annotation onsets.\n",
       "    If not, :func:`mne.events_from_annotations` returns as many events as\n",
       "    they fit within the annotation duration spaced according to\n",
       "    ``chunk_duration``. As a consequence annotations with duration shorter\n",
       "    than ``chunk_duration`` will not contribute events.\n",
       "\n",
       "verbose : bool, str, int, or None\n",
       "    If not None, override default verbose level (see :func:`mne.verbose`\n",
       "    and :ref:`Logging documentation <tut_logging>` for more).\n",
       "    If used, it should be passed as a keyword-argument only.\n",
       "\n",
       "Returns\n",
       "-------\n",
       "events : ndarray, shape (n_events, 3)\n",
       "    The events.\n",
       "event_id : dict\n",
       "    The event_id variable that can be passed to Epochs.\n",
       "\n",
       "See Also\n",
       "--------\n",
       "mne.annotations_from_events\n",
       "\n",
       "Notes\n",
       "-----\n",
       "For data formats that store integer events as strings (e.g., NeuroScan\n",
       "``.cnt`` files), passing the Python built-in function :class:`int` as the\n",
       "``event_id`` parameter will do what most users probably want in those\n",
       "circumstances: return an ``event_id`` dictionary that maps event ``'1'`` to\n",
       "integer event code ``1``, ``'2'`` to ``2``, etc.\n",
       "\u001b[0;31mFile:\u001b[0m      ~/opt/anaconda3/envs/mne/lib/python3.9/site-packages/mne/annotations.py\n",
       "\u001b[0;31mType:\u001b[0m      function\n"
      ]
     },
     "metadata": {},
     "output_type": "display_data"
    }
   ],
   "source": [
    "mne.events_from_annotations?"
   ]
  },
  {
   "cell_type": "code",
   "execution_count": 196,
   "id": "b471ff2e-a8f0-4252-b58e-4e25541f0aaf",
   "metadata": {},
   "outputs": [
    {
     "name": "stdout",
     "output_type": "stream",
     "text": [
      "Used Annotations descriptions: ['response/2', 'response/4', 'stimulus']\n"
     ]
    }
   ],
   "source": [
    "events, event_id = mne.events_from_annotations(raw)"
   ]
  },
  {
   "cell_type": "code",
   "execution_count": 199,
   "id": "31dccfa9-a3f1-4884-b5c4-7358fd2b4051",
   "metadata": {},
   "outputs": [
    {
     "data": {
      "text/plain": [
       "array([[ 27119,      0,      3],\n",
       "       [ 27894,      0,      2],\n",
       "       [ 29032,      0,      1],\n",
       "       [ 34715,      0,      3],\n",
       "       [ 35523,      0,      1],\n",
       "       [ 36238,      0,      1],\n",
       "       [ 63002,      0,      3],\n",
       "       [ 64320,      0,      2],\n",
       "       [ 64872,      0,      1],\n",
       "       [ 90323,      0,      3],\n",
       "       [ 90995,      0,      1],\n",
       "       [ 91852,      0,      1],\n",
       "       [120479,      0,      3],\n",
       "       [121360,      0,      2],\n",
       "       [121954,      0,      2],\n",
       "       [164401,      0,      3],\n",
       "       [165640,      0,      2],\n",
       "       [166504,      0,      2],\n",
       "       [167143,      0,      1],\n",
       "       [201449,      0,      3],\n",
       "       [202350,      0,      2],\n",
       "       [202964,      0,      2],\n",
       "       [203743,      0,      1],\n",
       "       [233697,      0,      3],\n",
       "       [235347,      0,      1],\n",
       "       [236105,      0,      1],\n",
       "       [236699,      0,      1],\n",
       "       [265629,      0,      3],\n",
       "       [266387,      0,      2],\n",
       "       [266969,      0,      1],\n",
       "       [267641,      0,      1],\n",
       "       [306298,      0,      3],\n",
       "       [307143,      0,      1],\n",
       "       [307923,      0,      2],\n",
       "       [308525,      0,      1],\n",
       "       [320044,      0,      3],\n",
       "       [321673,      0,      2],\n",
       "       [322340,      0,      1],\n",
       "       [344614,      0,      3],\n",
       "       [345415,      0,      1],\n",
       "       [346189,      0,      1],\n",
       "       [346848,      0,      1],\n",
       "       [383720,      0,      3],\n",
       "       [384933,      0,      1],\n",
       "       [385716,      0,      2],\n",
       "       [386345,      0,      1],\n",
       "       [399402,      0,      3],\n",
       "       [400543,      0,      2],\n",
       "       [401240,      0,      1],\n",
       "       [401893,      0,      1],\n",
       "       [412137,      0,      3],\n",
       "       [412908,      0,      2],\n",
       "       [413544,      0,      1],\n",
       "       [414136,      0,      1],\n",
       "       [436152,      0,      3],\n",
       "       [436874,      0,      1],\n",
       "       [437484,      0,      1],\n",
       "       [438169,      0,      1],\n",
       "       [444823,      0,      3],\n",
       "       [445544,      0,      1],\n",
       "       [446149,      0,      1],\n",
       "       [446736,      0,      1],\n",
       "       [482067,      0,      3],\n",
       "       [482785,      0,      1],\n",
       "       [483403,      0,      2],\n",
       "       [484307,      0,      2],\n",
       "       [508116,      0,      3],\n",
       "       [509312,      0,      1],\n",
       "       [510061,      0,      1],\n",
       "       [510880,      0,      2],\n",
       "       [532127,      0,      3],\n",
       "       [533134,      0,      1],\n",
       "       [533736,      0,      2],\n",
       "       [534405,      0,      2],\n",
       "       [543364,      0,      3],\n",
       "       [545446,      0,      1],\n",
       "       [546183,      0,      2],\n",
       "       [580999,      0,      3],\n",
       "       [581908,      0,      1],\n",
       "       [582982,      0,      1],\n",
       "       [584163,      0,      2],\n",
       "       [604133,      0,      3],\n",
       "       [604807,      0,      1],\n",
       "       [605366,      0,      1],\n",
       "       [605944,      0,      2],\n",
       "       [626426,      0,      3],\n",
       "       [627117,      0,      2],\n",
       "       [627720,      0,      1],\n",
       "       [628302,      0,      2],\n",
       "       [636236,      0,      3],\n",
       "       [637197,      0,      2],\n",
       "       [637902,      0,      1],\n",
       "       [638597,      0,      2],\n",
       "       [655494,      0,      3],\n",
       "       [656403,      0,      1],\n",
       "       [657304,      0,      2],\n",
       "       [657958,      0,      2],\n",
       "       [690216,      0,      3],\n",
       "       [690993,      0,      1],\n",
       "       [691571,      0,      2],\n",
       "       [692129,      0,      2]])"
      ]
     },
     "execution_count": 199,
     "metadata": {},
     "output_type": "execute_result"
    }
   ],
   "source": [
    "events"
   ]
  },
  {
   "cell_type": "code",
   "execution_count": 201,
   "id": "ceddacb7-1c86-4385-9410-141eb5c3ed06",
   "metadata": {},
   "outputs": [
    {
     "data": {
      "text/plain": [
       "{'response/2': 1, 'response/4': 2, 'stimulus': 3}"
      ]
     },
     "execution_count": 201,
     "metadata": {},
     "output_type": "execute_result"
    }
   ],
   "source": [
    "event_id"
   ]
  },
  {
   "cell_type": "code",
   "execution_count": 202,
   "id": "9f9c805d-f073-4eeb-9913-fdb1ed7df2ef",
   "metadata": {},
   "outputs": [
    {
     "data": {
      "text/plain": [
       "27"
      ]
     },
     "execution_count": 202,
     "metadata": {},
     "output_type": "execute_result"
    }
   ],
   "source": [
    "len(events[events[:, 2] == 3]) #27 stimulus events"
   ]
  },
  {
   "cell_type": "code",
   "execution_count": 203,
   "id": "03ee9b97-a4c4-4f62-aef9-958ef611437d",
   "metadata": {},
   "outputs": [
    {
     "data": {
      "text/plain": [
       "(101, 3)"
      ]
     },
     "execution_count": 203,
     "metadata": {},
     "output_type": "execute_result"
    }
   ],
   "source": [
    "events.shape #np array"
   ]
  },
  {
   "cell_type": "code",
   "execution_count": 204,
   "id": "23099539-1702-44c2-b1cb-85fd717fbfe7",
   "metadata": {},
   "outputs": [
    {
     "name": "stdout",
     "output_type": "stream",
     "text": [
      "Channels marked as bad: none\n"
     ]
    },
    {
     "data": {
      "text/plain": [
       "<Figure size 1280x960 with 1 Axes>"
      ]
     },
     "execution_count": 204,
     "metadata": {},
     "output_type": "execute_result"
    }
   ],
   "source": [
    "mne.viz.plot_events(events, event_id=event_id, sfreq=raw.info['sfreq']) #sample rate\n",
    "#if we specify sfreq, we get time axis in seconds, else we get in samples, seconds better"
   ]
  },
  {
   "cell_type": "code",
   "execution_count": 205,
   "id": "f9796443-490c-463d-99f6-59f699171dd3",
   "metadata": {},
   "outputs": [],
   "source": [
    "#doubts make pipeline for all subjects and sessions"
   ]
  },
  {
   "cell_type": "code",
   "execution_count": 206,
   "id": "113b8d41-e7d1-46c6-8988-4d3c811fca65",
   "metadata": {},
   "outputs": [
    {
     "data": {
      "text/plain": [
       "array([[ 27119,      0,      3],\n",
       "       [ 27894,      0,      2],\n",
       "       [ 29032,      0,      1],\n",
       "       [ 34715,      0,      3],\n",
       "       [ 35523,      0,      1],\n",
       "       [ 36238,      0,      1],\n",
       "       [ 63002,      0,      3],\n",
       "       [ 64320,      0,      2],\n",
       "       [ 64872,      0,      1],\n",
       "       [ 90323,      0,      3],\n",
       "       [ 90995,      0,      1],\n",
       "       [ 91852,      0,      1],\n",
       "       [120479,      0,      3],\n",
       "       [121360,      0,      2],\n",
       "       [121954,      0,      2],\n",
       "       [164401,      0,      3],\n",
       "       [165640,      0,      2],\n",
       "       [166504,      0,      2],\n",
       "       [167143,      0,      1],\n",
       "       [201449,      0,      3],\n",
       "       [202350,      0,      2],\n",
       "       [202964,      0,      2],\n",
       "       [203743,      0,      1],\n",
       "       [233697,      0,      3],\n",
       "       [235347,      0,      1],\n",
       "       [236105,      0,      1],\n",
       "       [236699,      0,      1],\n",
       "       [265629,      0,      3],\n",
       "       [266387,      0,      2],\n",
       "       [266969,      0,      1],\n",
       "       [267641,      0,      1],\n",
       "       [306298,      0,      3],\n",
       "       [307143,      0,      1],\n",
       "       [307923,      0,      2],\n",
       "       [308525,      0,      1],\n",
       "       [320044,      0,      3],\n",
       "       [321673,      0,      2],\n",
       "       [322340,      0,      1],\n",
       "       [344614,      0,      3],\n",
       "       [345415,      0,      1],\n",
       "       [346189,      0,      1],\n",
       "       [346848,      0,      1],\n",
       "       [383720,      0,      3],\n",
       "       [384933,      0,      1],\n",
       "       [385716,      0,      2],\n",
       "       [386345,      0,      1],\n",
       "       [399402,      0,      3],\n",
       "       [400543,      0,      2],\n",
       "       [401240,      0,      1],\n",
       "       [401893,      0,      1],\n",
       "       [412137,      0,      3],\n",
       "       [412908,      0,      2],\n",
       "       [413544,      0,      1],\n",
       "       [414136,      0,      1],\n",
       "       [436152,      0,      3],\n",
       "       [436874,      0,      1],\n",
       "       [437484,      0,      1],\n",
       "       [438169,      0,      1],\n",
       "       [444823,      0,      3],\n",
       "       [445544,      0,      1],\n",
       "       [446149,      0,      1],\n",
       "       [446736,      0,      1],\n",
       "       [482067,      0,      3],\n",
       "       [482785,      0,      1],\n",
       "       [483403,      0,      2],\n",
       "       [484307,      0,      2],\n",
       "       [508116,      0,      3],\n",
       "       [509312,      0,      1],\n",
       "       [510061,      0,      1],\n",
       "       [510880,      0,      2],\n",
       "       [532127,      0,      3],\n",
       "       [533134,      0,      1],\n",
       "       [533736,      0,      2],\n",
       "       [534405,      0,      2],\n",
       "       [543364,      0,      3],\n",
       "       [545446,      0,      1],\n",
       "       [546183,      0,      2],\n",
       "       [580999,      0,      3],\n",
       "       [581908,      0,      1],\n",
       "       [582982,      0,      1],\n",
       "       [584163,      0,      2],\n",
       "       [604133,      0,      3],\n",
       "       [604807,      0,      1],\n",
       "       [605366,      0,      1],\n",
       "       [605944,      0,      2],\n",
       "       [626426,      0,      3],\n",
       "       [627117,      0,      2],\n",
       "       [627720,      0,      1],\n",
       "       [628302,      0,      2],\n",
       "       [636236,      0,      3],\n",
       "       [637197,      0,      2],\n",
       "       [637902,      0,      1],\n",
       "       [638597,      0,      2],\n",
       "       [655494,      0,      3],\n",
       "       [656403,      0,      1],\n",
       "       [657304,      0,      2],\n",
       "       [657958,      0,      2],\n",
       "       [690216,      0,      3],\n",
       "       [690993,      0,      1],\n",
       "       [691571,      0,      2],\n",
       "       [692129,      0,      2]])"
      ]
     },
     "execution_count": 206,
     "metadata": {},
     "output_type": "execute_result"
    }
   ],
   "source": [
    "events"
   ]
  },
  {
   "cell_type": "code",
   "execution_count": 207,
   "id": "720bb33d-c93a-4c8c-8e1d-218503a03644",
   "metadata": {},
   "outputs": [
    {
     "data": {
      "text/plain": [
       "array([[ 1.91191834e-03,  1.89554337e-03,  1.89585587e-03, ...,\n",
       "         1.15282599e-03,  1.15398224e-03,  1.14885725e-03],\n",
       "       [-3.01622880e-03, -3.02635378e-03, -3.02232254e-03, ...,\n",
       "        -1.39916929e-03, -1.39882554e-03, -1.40079429e-03],\n",
       "       [-8.01743831e-03, -8.02518830e-03, -8.02746954e-03, ...,\n",
       "        -8.32521899e-03, -8.32568774e-03, -8.32843774e-03],\n",
       "       ...,\n",
       "       [-4.05217498e+00, -4.05223943e+00, -4.05219305e+00, ...,\n",
       "        -4.05213348e+00, -4.05213446e+00, -4.05212957e+00],\n",
       "       [-5.00499994e-01, -5.00499994e-01, -5.00499994e-01, ...,\n",
       "        -5.00499994e-01, -5.00499994e-01, -5.00499994e-01],\n",
       "       [ 6.55360000e+04,  6.55360000e+04,  6.55360000e+04, ...,\n",
       "         0.00000000e+00,  0.00000000e+00,  0.00000000e+00]])"
      ]
     },
     "execution_count": 207,
     "metadata": {},
     "output_type": "execute_result"
    }
   ],
   "source": [
    "# raw[:][0]"
   ]
  },
  {
   "cell_type": "code",
   "execution_count": 172,
   "id": "c58d3f80-ea78-468b-900f-0eaca2ed3f4a",
   "metadata": {},
   "outputs": [],
   "source": [
    "data, times = raw[:]  "
   ]
  },
  {
   "cell_type": "code",
   "execution_count": 210,
   "id": "fcbb8b71-2a59-464d-8d69-3069becad2f8",
   "metadata": {},
   "outputs": [
    {
     "data": {
      "text/plain": [
       "array([[ 1.91191834e-03,  1.89554337e-03,  1.89585587e-03, ...,\n",
       "         1.15282599e-03,  1.15398224e-03,  1.14885725e-03],\n",
       "       [-3.01622880e-03, -3.02635378e-03, -3.02232254e-03, ...,\n",
       "        -1.39916929e-03, -1.39882554e-03, -1.40079429e-03],\n",
       "       [-8.01743831e-03, -8.02518830e-03, -8.02746954e-03, ...,\n",
       "        -8.32521899e-03, -8.32568774e-03, -8.32843774e-03],\n",
       "       ...,\n",
       "       [-4.05217498e+00, -4.05223943e+00, -4.05219305e+00, ...,\n",
       "        -4.05213348e+00, -4.05213446e+00, -4.05212957e+00],\n",
       "       [-5.00499994e-01, -5.00499994e-01, -5.00499994e-01, ...,\n",
       "        -5.00499994e-01, -5.00499994e-01, -5.00499994e-01],\n",
       "       [ 6.55360000e+04,  6.55360000e+04,  6.55360000e+04, ...,\n",
       "         0.00000000e+00,  0.00000000e+00,  0.00000000e+00]])"
      ]
     },
     "execution_count": 210,
     "metadata": {},
     "output_type": "execute_result"
    }
   ],
   "source": [
    "data #get data ndarray"
   ]
  },
  {
   "cell_type": "code",
   "execution_count": 211,
   "id": "ba39b958-dd11-4d96-a852-a66faaca525b",
   "metadata": {},
   "outputs": [
    {
     "data": {
      "text/plain": [
       "(80, 695552)"
      ]
     },
     "execution_count": 211,
     "metadata": {},
     "output_type": "execute_result"
    }
   ],
   "source": [
    "data.shape #80 channels, 695552 time steps"
   ]
  },
  {
   "cell_type": "code",
   "execution_count": 174,
   "id": "a0ea139b-1f8a-41c2-b715-93598f92b521",
   "metadata": {},
   "outputs": [
    {
     "data": {
      "text/plain": [
       "(695552,)"
      ]
     },
     "execution_count": 174,
     "metadata": {},
     "output_type": "execute_result"
    }
   ],
   "source": [
    "times.shape"
   ]
  },
  {
   "cell_type": "code",
   "execution_count": 212,
   "id": "596a4481-c744-47f5-afd7-0f291f5a030d",
   "metadata": {},
   "outputs": [
    {
     "data": {
      "text/plain": [
       "695552"
      ]
     },
     "execution_count": 212,
     "metadata": {},
     "output_type": "execute_result"
    }
   ],
   "source": [
    "len(raw)\n",
    "#Observation-> no. of time steps are different, channels same"
   ]
  },
  {
   "cell_type": "code",
   "execution_count": 213,
   "id": "9dc13e17-bfeb-4b38-8bf5-4fb7e7055405",
   "metadata": {},
   "outputs": [
    {
     "name": "stdout",
     "output_type": "stream",
     "text": [
      "Effective window size : 8.000 (s)\n"
     ]
    },
    {
     "name": "stderr",
     "output_type": "stream",
     "text": [
      "/var/folders/wg/n4lzr5p965ngqdcxry8zy3kc0000gn/T/ipykernel_99866/1925098452.py:1: UserWarning: Infinite value in PSD for channels GSR2, Temp.\n",
      "These channels might be dead.\n",
      "  raw.plot_psd(fmax=50)\n",
      "/var/folders/wg/n4lzr5p965ngqdcxry8zy3kc0000gn/T/ipykernel_99866/1925098452.py:1: RuntimeWarning: Channel locations not available. Disabling spatial colors.\n",
      "  raw.plot_psd(fmax=50)\n"
     ]
    },
    {
     "data": {
      "text/plain": [
       "<MNEBrowseFigure size 2202x1054 with 4 Axes>"
      ]
     },
     "execution_count": 213,
     "metadata": {},
     "output_type": "execute_result"
    },
    {
     "name": "stdout",
     "output_type": "stream",
     "text": [
      "Channels marked as bad: none\n"
     ]
    }
   ],
   "source": []
  },
  {
   "cell_type": "code",
   "execution_count": 214,
   "id": "f7110cba-1094-455c-8ebd-c225cba6d8f5",
   "metadata": {},
   "outputs": [
    {
     "name": "stdout",
     "output_type": "stream",
     "text": [
      "Reading 0 ... 695551  =      0.000 ...  2716.996 secs...\n"
     ]
    },
    {
     "data": {
      "text/html": [
       "\n",
       "\n",
       "<table class=\"table table-hover\">\n",
       "    <tr>\n",
       "        <th>Measurement date</th>\n",
       "        <td>April 04, 2014  20:30:06 GMT</td>\n",
       "        \n",
       "    </tr>\n",
       "    <tr>\n",
       "        <th>Experimenter</th>\n",
       "<td>Unknown</td>\n",
       "    </tr>\n",
       "        <th>Participant</th>\n",
       "            <td>sub-001</td>\n",
       "        \n",
       "    </tr>\n",
       "    <tr>\n",
       "        <th>Digitized points</th>\n",
       "        <td>Not available</td>\n",
       "    </tr>\n",
       "    <tr>\n",
       "        <th>Good channels</th>\n",
       "        <td>0 magnetometer, 0 gradiometer,\n",
       "            and 68 EEG channels</td>\n",
       "    </tr>\n",
       "    <tr>\n",
       "        <th>Bad channels</th>\n",
       "        <td></td>\n",
       "        \n",
       "    </tr>\n",
       "    <tr>\n",
       "        <th>EOG channels</th>\n",
       "        <td>Not available</td>\n",
       "    </tr>\n",
       "    <tr>\n",
       "        <th>ECG channels</th>\n",
       "        <td>Not available</td>\n",
       "    <tr>\n",
       "        <th>Sampling frequency</th>\n",
       "        <td>256.00 Hz</td>\n",
       "    </tr>\n",
       "    <tr>\n",
       "        <th>Highpass</th>\n",
       "        <td>0.00 Hz</td>\n",
       "    </tr>\n",
       "     <tr>\n",
       "        <th>Lowpass</th>\n",
       "        <td>52.00 Hz</td>\n",
       "    </tr>\n",
       "\n",
       "    <tr>\n",
       "        <th>Filenames</th>\n",
       "        <td>sub-001_ses-02_task-meditation_eeg.bdf</td>\n",
       "    </tr>\n",
       "    <tr>\n",
       "        <th>Duration</th>\n",
       "        <td>00:45:16 (HH:MM:SS)</td>\n",
       "    </tr>\n",
       "</table>\n"
      ],
      "text/plain": [
       "<RawEDF | sub-001_ses-02_task-meditation_eeg.bdf, 80 x 695552 (2717.0 s), ~424.6 MB, data loaded>"
      ]
     },
     "execution_count": 214,
     "metadata": {},
     "output_type": "execute_result"
    }
   ],
   "source": [
    "raw.load_data() #can filter only after loading data"
   ]
  },
  {
   "cell_type": "code",
   "execution_count": 216,
   "id": "29c87b83-d3b4-4961-8fcb-6099bf629d88",
   "metadata": {},
   "outputs": [
    {
     "name": "stdout",
     "output_type": "stream",
     "text": [
      "Not setting metadata\n",
      "Not setting metadata\n",
      "101 matching events found\n",
      "Setting baseline interval to [-0.30078125, 0.0] sec\n",
      "Applying baseline correction (mode: mean)\n",
      "0 projection items activated\n",
      "Loading data for 101 events and 206 original time points ...\n",
      "0 bad epochs dropped\n"
     ]
    },
    {
     "data": {
      "text/html": [
       "\n",
       "<table class=\"table table-hover\">\n",
       "    <tr>\n",
       "        <th>Number of events</th>\n",
       "        <td>101</td>\n",
       "    </tr>\n",
       "    <tr>\n",
       "        <th>Events</th>\n",
       "        <td>response/2: 44<br>response/4: 30<br>stimulus: 27<br></td>\n",
       "    </tr>\n",
       "    <tr>\n",
       "        <th>Time range</th>\n",
       "        <td>-0.301 – 0.500 sec</td>\n",
       "    </tr>\n",
       "    <tr>\n",
       "        <th>Baseline</th>\n",
       "        <td>-0.301 – 0.000 sec</td>\n",
       "    </tr>\n",
       "</table>\n"
      ],
      "text/plain": [
       "<Epochs |  101 events (all good), -0.300781 - 0.5 sec, baseline -0.300781 – 0 sec, ~12.8 MB, data loaded,\n",
       " 'response/2': 44\n",
       " 'response/4': 30\n",
       " 'stimulus': 27>"
      ]
     },
     "execution_count": 216,
     "metadata": {},
     "output_type": "execute_result"
    }
   ],
   "source": [
    "tmin = -0.3 # where starts in secs, 300 ms before event\n",
    "tmax = 0.5 # end of epoch after event onset\n",
    "baseline = (None, 0) \n",
    "# (start of baseline, end of baseline), baseline extends from none (beginning of epoch ) to event onset\n",
    "\n",
    "epochs = mne.Epochs(raw, #data to cut into epochs\n",
    "                    events=events, #where events to use np arr\n",
    "                    event_id=event_id, #assign human readable names to epochs\n",
    "                    tmin=tmin,\n",
    "                    tmax=tmax,\n",
    "                    baseline=baseline,\n",
    "                    preload=True) #data gets loaded into mem\n",
    "epochs\n",
    "\n",
    "# if baseline=None mne will not apply baseline correction on epoch creati"
   ]
  },
  {
   "cell_type": "code",
   "execution_count": 217,
   "id": "cd1de7c2-7651-4398-a89c-4d1831d2d7b8",
   "metadata": {},
   "outputs": [
    {
     "data": {
      "text/html": [
       "\n",
       "<table class=\"table table-hover\">\n",
       "    <tr>\n",
       "        <th>Number of events</th>\n",
       "        <td>27</td>\n",
       "    </tr>\n",
       "    <tr>\n",
       "        <th>Events</th>\n",
       "        <td>stimulus: 27<br></td>\n",
       "    </tr>\n",
       "    <tr>\n",
       "        <th>Time range</th>\n",
       "        <td>-0.301 – 0.500 sec</td>\n",
       "    </tr>\n",
       "    <tr>\n",
       "        <th>Baseline</th>\n",
       "        <td>-0.301 – 0.000 sec</td>\n",
       "    </tr>\n",
       "</table>\n"
      ],
      "text/plain": [
       "<Epochs |  27 events (all good), -0.300781 - 0.5 sec, baseline -0.300781 – 0 sec, ~3.5 MB, data loaded,\n",
       " 'stimulus': 27>"
      ]
     },
     "execution_count": 217,
     "metadata": {},
     "output_type": "execute_result"
    }
   ],
   "source": [
    "epochs['stimulus']"
   ]
  },
  {
   "cell_type": "code",
   "execution_count": 218,
   "id": "c34c32ec-42d9-44d0-94a2-a6c9de63bdef",
   "metadata": {},
   "outputs": [
    {
     "name": "stdout",
     "output_type": "stream",
     "text": [
      "Not setting metadata\n",
      "Not setting metadata\n",
      "27 matching events found\n",
      "No baseline correction applied\n",
      "0 projection items activated\n",
      "0 bad epochs dropped\n",
      "combining channels using \"gfp\"\n"
     ]
    },
    {
     "data": {
      "text/plain": [
       "[<Figure size 1280x960 with 3 Axes>]"
      ]
     },
     "execution_count": 218,
     "metadata": {},
     "output_type": "execute_result"
    }
   ],
   "source": [
    "epochs['stimulus'].plot_image()"
   ]
  },
  {
   "cell_type": "code",
   "execution_count": 225,
   "id": "87a86c0a-e7eb-4ff7-9cbc-c34598e4eb4b",
   "metadata": {},
   "outputs": [],
   "source": [
    "epochs.save(data_path+\"/epochs_epo.fif\", #follow naming convention like epo for epoch\n",
    "            overwrite=True)"
   ]
  },
  {
   "cell_type": "code",
   "execution_count": 226,
   "id": "422d366a-7afa-4b4d-a107-cadab402259a",
   "metadata": {},
   "outputs": [
    {
     "data": {
      "text/plain": [
       "'/Users/Asmita_Hajra/Downloads/bidsexport'"
      ]
     },
     "execution_count": 226,
     "metadata": {},
     "output_type": "execute_result"
    }
   ],
   "source": [
    "data_path"
   ]
  },
  {
   "cell_type": "markdown",
   "id": "7edea4a3-040e-4255-9371-2e04e3a776a0",
   "metadata": {},
   "source": [
    "## Creating evoked data"
   ]
  },
  {
   "cell_type": "code",
   "execution_count": 228,
   "id": "d62adfb8-116d-4145-b669-f366a878b510",
   "metadata": {},
   "outputs": [],
   "source": [
    "evoked_stimulus= epochs['stimulus'].average()"
   ]
  },
  {
   "cell_type": "code",
   "execution_count": 229,
   "id": "24e0ffe5-4846-4ebb-8b3b-195c58dbb8e4",
   "metadata": {},
   "outputs": [
    {
     "data": {
      "text/plain": [
       "<Evoked | 'stimulus' (average, N=27), -0.30078 – 0.5 sec, baseline -0.300781 – 0 sec, 68 ch, ~178 kB>"
      ]
     },
     "execution_count": 229,
     "metadata": {},
     "output_type": "execute_result"
    }
   ],
   "source": [
    "evoked_stimulus"
   ]
  },
  {
   "cell_type": "code",
   "execution_count": 234,
   "id": "e96cab48-8973-4f56-a827-86f9fafbe5d4",
   "metadata": {},
   "outputs": [],
   "source": [
    "mne.write_evokeds(fname=data_path+\"/evokeds_ave.fif\",\n",
    "                  evoked=[evoked_stimulus]) #can wr multi epochs"
   ]
  }
 ],
 "metadata": {
  "kernelspec": {
   "display_name": "Python 3 (ipykernel)",
   "language": "python",
   "name": "python3"
  },
  "language_info": {
   "codemirror_mode": {
    "name": "ipython",
    "version": 3
   },
   "file_extension": ".py",
   "mimetype": "text/x-python",
   "name": "python",
   "nbconvert_exporter": "python",
   "pygments_lexer": "ipython3",
   "version": "3.9.5"
  }
 },
 "nbformat": 4,
 "nbformat_minor": 5
}
