{
 "cells": [
  {
   "cell_type": "markdown",
   "id": "9ad668c5-7d37-417d-96bf-dbafd2be0812",
   "metadata": {},
   "source": [
    "### To what extent does meditation influence the aware- ness, duration and frequency of the tendency of the mind to wander?"
   ]
  },
  {
   "cell_type": "markdown",
   "id": "1ec9247d-cf3d-49dc-b1f9-1834054545b3",
   "metadata": {},
   "source": [
    "##### To assess the relation between mind wandering and meditation -> testing 2 groups of meditators, one with a moderate level of experience (novice) and those who are well advanced in their practice (expert). "
   ]
  },
  {
   "cell_type": "code",
   "execution_count": 4,
   "id": "163d7a05-36ac-4bd5-89e7-693a329090c1",
   "metadata": {},
   "outputs": [],
   "source": [
    "import matplotlib\n",
    "import pathlib\n",
    "import os.path\n",
    "from os import path\n",
    "import mne\n",
    "import mne_bids #brain imaging data structure #convert dataset to bits compatible dataset, .fif is actual data, will be able to run tools that expect bits data\n",
    "from bids_validator import BIDSValidator\n",
    "import numpy as np"
   ]
  },
  {
   "cell_type": "code",
   "execution_count": 5,
   "id": "7c56b546-4ad4-4e4f-98fd-11634e20cf3e",
   "metadata": {},
   "outputs": [],
   "source": [
    "matplotlib.use('Qt5Agg')  #interactive"
   ]
  },
  {
   "cell_type": "code",
   "execution_count": 7,
   "id": "d244fa97-fb78-4c56-86d8-9b89571a904c",
   "metadata": {},
   "outputs": [],
   "source": [
    "data_path=\"/Users/Asmita_Hajra/Downloads/bidsexport\" #path of BIDS data"
   ]
  },
  {
   "cell_type": "markdown",
   "id": "e835fa30-7c21-4fcb-8b84-fa8de85d749d",
   "metadata": {},
   "source": [
    "## Structure of directory"
   ]
  },
  {
   "cell_type": "code",
   "execution_count": null,
   "id": "f943d012-6fb7-4462-8ed8-b63f4d85ea85",
   "metadata": {
    "tags": []
   },
   "outputs": [],
   "source": [
    "mne_bids.print_dir_tree(data_path)"
   ]
  },
  {
   "cell_type": "markdown",
   "id": "0cad9218-17ff-4b50-afa2-f73568728518",
   "metadata": {},
   "source": [
    "## Report"
   ]
  },
  {
   "cell_type": "code",
   "execution_count": null,
   "id": "82daad8f-93f1-4160-a582-f7efe840aba1",
   "metadata": {
    "tags": []
   },
   "outputs": [],
   "source": [
    "print(mne_bids.make_report(data_path)) #path to bids directory #doubt, no authors thus error"
   ]
  },
  {
   "cell_type": "markdown",
   "id": "53f5d162-1494-4c49-88cc-8bd5296ac105",
   "metadata": {},
   "source": [
    "## Reading BIDS data-> analyzing raw data\n",
    "\n"
   ]
  },
  {
   "cell_type": "code",
   "execution_count": null,
   "id": "621ac039-42bf-42ef-94ad-4ece4d7be522",
   "metadata": {
    "tags": []
   },
   "outputs": [],
   "source": [
    "# currently for finding X of dataset\n",
    "def load_and_epoch_data(n): # n= no. of subjects \n",
    "     # INPUT: NUMBER OF SUBJECTS DATASET TO BE LOADED\n",
    "     # OUTPUT: list of 2d array (length = no. of subjects * 2)\n",
    "    raw_data_np=[]\n",
    "    raw_data=[]\n",
    "    subject_id=''\n",
    "    session_id=''\n",
    "    for i in range(n): #0-23\n",
    "        for j in range(3): # no. of sessions\n",
    "            # i is the subject number\n",
    "            # j is the session number\n",
    "            if(i<9):\n",
    "                subject_id=\"00\"+str(i+1)\n",
    "            else:\n",
    "                subject_id=\"0\"+str(i+1)\n",
    "                \n",
    "            session_id=\"0\"+str(j+1)\n",
    "            \n",
    "            # check if path exists \n",
    "            # print(\"hello\"+ str(i)+\"\"+str(j))\n",
    "            dataset_path_to_validate=data_path+\"/sub-\"+subject_id+\"/ses-\"+session_id\n",
    "            if(path.isdir(dataset_path_to_validate)): #validating if these sessions exist\n",
    "                list_of_files = os.listdir(dataset_path_to_validate+\"/eeg\") # Checking if the folder is empty\n",
    "                if len(list_of_files) != 0:\n",
    "                    bids_path = mne_bids.BIDSPath(subject=subject_id, \n",
    "                              session=session_id,\n",
    "                              task='meditation',\n",
    "                              # run='01', #doubt what is run number\n",
    "                              datatype='eeg', #will have a folder with datatype as name\n",
    "                              root=data_path)\n",
    "#                 if(BIDSValidator().is_bids(dataset_path_to_validate+\"/eeg\")):\n",
    "#                     print(\"hellp\")\n",
    "                    raw = mne_bids.read_raw_bids(bids_path)\n",
    "                    # print(raw.shape)'RawEDF', object has no attribute 'shape'\n",
    "                    data, times = raw[:] # converting to ndarray\n",
    "                    print (data.shape)\n",
    "                    raw_data_np.append(data)\n",
    "                    raw_data.append(raw) # list of raw data\n",
    "\n",
    "    return raw_data, raw_data_np\n",
    "\n",
    "no_of_subjects= 24\n",
    "raw_data, raw_data_np = load_and_epoch_data(no_of_subjects)"
   ]
  },
  {
   "cell_type": "code",
   "execution_count": 180,
   "id": "86b13899-7639-4f95-9e3d-d9bd10ad2ecb",
   "metadata": {},
   "outputs": [
    {
     "data": {
      "text/plain": [
       "40"
      ]
     },
     "execution_count": 180,
     "metadata": {},
     "output_type": "execute_result"
    }
   ],
   "source": [
    "len(raw_data_np)"
   ]
  },
  {
   "cell_type": "code",
   "execution_count": 181,
   "id": "6e0297a3-b8fd-47f9-921b-7495e771eaa3",
   "metadata": {},
   "outputs": [
    {
     "data": {
      "text/plain": [
       "list"
      ]
     },
     "execution_count": 181,
     "metadata": {},
     "output_type": "execute_result"
    }
   ],
   "source": [
    "type(raw_data_np)"
   ]
  },
  {
   "cell_type": "code",
   "execution_count": null,
   "id": "1a535fa2-db28-4336-979c-95d8f2ed7942",
   "metadata": {
    "tags": []
   },
   "outputs": [],
   "source": [
    "# Saving the ndarray\n",
    "arr = np.empty(40, object) # 40 objects\n",
    "arr[:] = raw_data_np\n",
    "np.save('/Users/Asmita_Hajra/mne-research/stored_data.npy', arr) # save"
   ]
  },
  {
   "cell_type": "code",
   "execution_count": 80,
   "id": "2c4b7d83-158c-4f93-9524-3fc71f66b727",
   "metadata": {},
   "outputs": [],
   "source": [
    "# Loading the nd array\n",
    "loaded_raw_data = np.load('/Users/Asmita_Hajra/mne-research/stored_data.npy', allow_pickle=True) # load\n"
   ]
  },
  {
   "cell_type": "code",
   "execution_count": null,
   "id": "e6a900be-aec4-4bfe-80d9-aef21df04bc1",
   "metadata": {
    "tags": []
   },
   "outputs": [],
   "source": [
    "# finding maximum no. of events\n",
    "\n",
    "for i in range(40):\n",
    "    events=mne.find_events(raw_data[i]) \n",
    "    \n",
    "#Observation-> Max no of events-> 2, 4, 8, 128, 254"
   ]
  },
  {
   "cell_type": "markdown",
   "id": "7dd862a9-dda0-40b7-ad29-d1f7e8fbc64c",
   "metadata": {},
   "source": [
    "## About data collection\n",
    "\n",
    "##### We collected data using a 64-channel Biosemi system and a Biosemi 10–20 head cap montage at 2048 Hz sampling rate.\n",
    "\n",
    "##### All electrodes were kept within an offset of 15 using the Biosemi ActiView data acquisition system for meas- uring impedance.\n",
    "\n",
    "##### Respiration, heart rate (ECG/HRV) and galvanic skin response (GSR) were also recorded, but results from these data will not be reported here."
   ]
  },
  {
   "cell_type": "markdown",
   "id": "25c7714a-681e-4945-a06d-9788ebb6484f",
   "metadata": {},
   "source": [
    "\n",
    "## About data\n",
    "##### Stimulus is 128-> Onset of first Question\n",
    "##### Response -> Response to question 1, 2 or 3\n",
    "##### doubt what is STATUS-> 254\n",
    "##### \"2\"-> Response 1 (this may be a response to question 1, 2 or 3)\"\n",
    "##### \"4\"-> Response 2 (this may be a response to question 1, 2 or 3)\"\n",
    "##### \"8\"-> Response 3 (this may be a response to question 1, 2 or 3)\"\n",
    "##### \"16\"-> involuntary response\n",
    "##### \"128\"-> First question onset (most important marker)"
   ]
  },
  {
   "cell_type": "markdown",
   "id": "0ffcaa77-1e68-47c4-b476-ae06217d1729",
   "metadata": {},
   "source": [
    "## Finding info and visualizing for one subject's session"
   ]
  },
  {
   "cell_type": "code",
   "execution_count": 12,
   "id": "e29b8809-7737-4583-89c6-0eaa9260d072",
   "metadata": {},
   "outputs": [
    {
     "name": "stdout",
     "output_type": "stream",
     "text": [
      "<Info | 9 non-empty values\n",
      " bads: []\n",
      " ch_names: A1, A2, A3, A4, A5, A6, A7, A8, A9, A10, A11, A12, A13, A14, ...\n",
      " chs: 68 EEG, 10 MISC, 1 RESP, 1 STIM\n",
      " custom_ref_applied: False\n",
      " highpass: 0.0 Hz\n",
      " line_freq: 50\n",
      " lowpass: 52.0 Hz\n",
      " meas_date: 2014-04-12 16:57:33 UTC\n",
      " nchan: 80\n",
      " projs: []\n",
      " sfreq: 256.0 Hz\n",
      " subject_info: 4 items (dict)\n",
      ">\n"
     ]
    }
   ],
   "source": [
    "print(raw_data[3].info) # 68 EEG channels"
   ]
  },
  {
   "cell_type": "code",
   "execution_count": null,
   "id": "c85191a8-4759-46d1-9706-719191f3543b",
   "metadata": {
    "tags": []
   },
   "outputs": [],
   "source": [
    "print(type(raw_data[0]))\n",
    "# raw_data[0].plot()\n",
    "events = mne.find_events(raw_data[0]) # 3 events, [  2   4 128]\n",
    "\n",
    "# raw_data[5].plot()\n",
    "events = mne.find_events(raw_data[5]) # 4 events, [  2   4   8 128]\n",
    "\n",
    "raw_data[21].plot()\n",
    "events = mne.find_events(raw_data[21]) # 5 events, [  2   4   8 128 254]\n",
    "\n",
    "#events are actually stored as annotations\n",
    "raw_data[21].annotations[0] \n",
    "raw_data[21].annotations[1]\n",
    "events, event_id = mne.events_from_annotations(raw_data[21])\n",
    "print(\"events and event_id\", events, event_id)\n",
    "print(\"events array shape\", events.shape)\n",
    "\n",
    "# doubt difference in response/2 vs response/4 vs response/8\n",
    "print(\"no of event response/8\", len(events[events[:, 2] == 4])) #all rows with event no 8\n",
    "print(raw_data[21].info)\n",
    "print(\"measuring date\", raw_data[21].info['meas_date'])\n",
    "print(\"sampling frequency\",raw_data[21].info['sfreq']) #number of samples/second-> 256\n",
    "print(\"line frquency\", raw_data[21].info['line_freq']) #line frequency\n",
    "print(\"subject information\", raw_data[21].info['subject_info'])\n",
    "print(\"events are now annotations\", raw_data[21].annotations)\n",
    "print(\"bads\", raw_data[21].info['bads']) #none here\n",
    "print(\"10 channel names\", raw_data[21].ch_names[:10])\n",
    "print(\"info of a channel\", raw_data[21].info['chs'][0])"
   ]
  },
  {
   "cell_type": "markdown",
   "id": "8a14d86b-059b-485a-80b7-8070ca6ecdc6",
   "metadata": {},
   "source": [
    "## Asserting uniformity of data and applying montage"
   ]
  },
  {
   "cell_type": "code",
   "execution_count": 9,
   "id": "07e986d4-ef4b-4a74-993c-899630b7055e",
   "metadata": {
    "tags": []
   },
   "outputs": [],
   "source": [
    "f=open(\"/Users/Asmita_Hajra/mne-research/biosemi64.txt\",\"r\")\n",
    "lines=f.readlines()\n",
    "result=[]\n",
    "for x in lines:\n",
    "    result.append(x.split('\\t')[0])\n",
    "f.close()"
   ]
  },
  {
   "cell_type": "code",
   "execution_count": 130,
   "id": "83e8b801-201b-476f-81b3-a1ec00448651",
   "metadata": {
    "collapsed": true,
    "jupyter": {
     "outputs_hidden": true
    },
    "tags": []
   },
   "outputs": [
    {
     "name": "stdout",
     "output_type": "stream",
     "text": [
      "['Site', 'Fp1', 'AF7', 'AF3', 'F1', 'F3', 'F5', 'F7', 'FT7', 'FC5', 'FC3', 'FC1', 'C1', 'C3', 'C5', 'T7', 'TP7', 'CP5', 'CP3', 'CP1', 'P1', 'P3', 'P5', 'P7', 'P9', 'PO7', 'PO3', 'O1', 'Iz', 'Oz', 'POz', 'Pz', 'CPz', 'Fpz', 'Fp2', 'AF8', 'AF4', 'AFz', 'Fz', 'F2', 'F4', 'F6', 'F8', 'FT8', 'FC6', 'FC4', 'FC2', 'FCz', 'Cz', 'C2', 'C4', 'C6', 'T8', 'TP8', 'CP6', 'CP4', 'CP2', 'P2', 'P4', 'P6', 'P8', 'P10', 'PO8', 'PO4', 'O2', 'Nz', 'LPA', 'RPA']\n"
     ]
    }
   ],
   "source": [
    "print(result)"
   ]
  },
  {
   "cell_type": "code",
   "execution_count": 11,
   "id": "565ace5b-0cdd-4216-b9dd-9b457476c3ca",
   "metadata": {},
   "outputs": [
    {
     "name": "stdout",
     "output_type": "stream",
     "text": [
      "Creating RawArray with float64 data, n_channels=64, n_times=1\n",
      "    Range : 0 ... 0 =      0.000 ...     0.000 secs\n",
      "Ready.\n"
     ]
    },
    {
     "data": {
      "text/plain": [
       "<Figure size 1280x1280 with 1 Axes>"
      ]
     },
     "execution_count": 11,
     "metadata": {},
     "output_type": "execute_result"
    }
   ],
   "source": [
    "biosemi_montage = mne.channels.make_standard_montage('biosemi64')\n",
    "biosemi_montage.plot(show_names=True)"
   ]
  },
  {
   "cell_type": "code",
   "execution_count": 12,
   "id": "51a3ba69-8c77-4a44-86e9-f9f133de61c0",
   "metadata": {},
   "outputs": [
    {
     "name": "stdout",
     "output_type": "stream",
     "text": [
      "{'A1': 'Fp1', 'A2': 'AF7', 'A3': 'AF3', 'A4': 'F1', 'A5': 'F3', 'A6': 'F5', 'A7': 'F7', 'A8': 'FT7', 'A9': 'FC5', 'A10': 'FC3', 'A11': 'FC1', 'A12': 'C1', 'A13': 'C3', 'A14': 'C5', 'A15': 'T7', 'A16': 'TP7', 'A17': 'CP5', 'A18': 'CP3', 'A19': 'CP1', 'A20': 'P1', 'A21': 'P3', 'A22': 'P5', 'A23': 'P7', 'A24': 'P9', 'A25': 'PO7', 'A26': 'PO3', 'A27': 'O1', 'A28': 'Iz', 'A29': 'Oz', 'A30': 'POz', 'A31': 'Pz', 'A32': 'CPz', 'B1': 'Fpz', 'B2': 'Fp2', 'B3': 'AF8', 'B4': 'AF4', 'B5': 'AFz', 'B6': 'Fz', 'B7': 'F2', 'B8': 'F4', 'B9': 'F6', 'B10': 'F8', 'B11': 'FT8', 'B12': 'FC6', 'B13': 'FC4', 'B14': 'FC2', 'B15': 'FCz', 'B16': 'Cz', 'B17': 'C2', 'B18': 'C4', 'B19': 'C6', 'B20': 'T8', 'B21': 'TP8', 'B22': 'CP6', 'B23': 'CP4', 'B24': 'CP2', 'B25': 'P2', 'B26': 'P4', 'B27': 'P6', 'B28': 'P8', 'B29': 'P10', 'B30': 'PO8', 'B31': 'PO4', 'B32': 'O2'}\n"
     ]
    }
   ],
   "source": [
    "# making dictionary to map channels to 10-20 biosemi64 montage format\n",
    "\n",
    "channel_keys = ['A1', 'A2', 'A3', 'A4', 'A5', 'A6', 'A7', 'A8', 'A9', 'A10', 'A11', 'A12', 'A13', 'A14', 'A15', 'A16', 'A17', 'A18', 'A19', 'A20', 'A21', 'A22', 'A23', 'A24', 'A25', 'A26', 'A27', 'A28', 'A29', 'A30', 'A31', 'A32', 'B1', 'B2', 'B3', 'B4', 'B5', 'B6', 'B7', 'B8', 'B9', 'B10', 'B11', 'B12', 'B13', 'B14', 'B15', 'B16', 'B17', 'B18', 'B19', 'B20', 'B21', 'B22', 'B23', 'B24', 'B25', 'B26', 'B27', 'B28', 'B29', 'B30', 'B31', 'B32']\n",
    "montage_keys= ['Fp1', 'AF7', 'AF3', 'F1', 'F3', 'F5', 'F7', 'FT7', 'FC5', 'FC3', 'FC1', 'C1', 'C3', 'C5', 'T7', 'TP7', 'CP5', 'CP3', 'CP1', 'P1', 'P3', 'P5', 'P7', 'P9', 'PO7', 'PO3', 'O1', 'Iz', 'Oz', 'POz', 'Pz', 'CPz', 'Fpz', 'Fp2', 'AF8', 'AF4', 'AFz', 'Fz', 'F2', 'F4', 'F6', 'F8', 'FT8', 'FC6', 'FC4', 'FC2', 'FCz', 'Cz', 'C2', 'C4', 'C6', 'T8', 'TP8', 'CP6', 'CP4', 'CP2', 'P2', 'P4', 'P6', 'P8', 'P10', 'PO8', 'PO4', 'O2'] #without Nz, LPA, RPA\n",
    "\n",
    "res_channels = {channel_keys[i]: montage_keys[i] for i in range(len(channel_keys))}\n",
    "\n",
    "print(res_channels)\n",
    "\n",
    "# for i in range(40):\n",
    "#     raw_data[i].rename_channels(res_channels)"
   ]
  },
  {
   "cell_type": "code",
   "execution_count": 22,
   "id": "3f79555a-1069-4915-8679-8baee33ca7ae",
   "metadata": {
    "tags": []
   },
   "outputs": [],
   "source": [
    "# lets assert a few things to find distribution of data\n",
    "# sfreq, no. of channels, whether they have valid subject info\n",
    "\n",
    "# do with loaded raw data later\n",
    "# print(type(loaded_raw_data)) \n",
    "# print(loaded_raw_data.shape) # 40\n",
    "# print(loaded_raw_data[0].shape) # (80, 696576)\n",
    "# for i in range(40): #0-23\n",
    "#         assert(loaded_raw_data[i].shape[0]==80) # checking if all have equal channels"
   ]
  },
  {
   "cell_type": "code",
   "execution_count": null,
   "id": "b9325428-7c96-44c1-be9e-26365a6a93ed",
   "metadata": {
    "tags": []
   },
   "outputs": [],
   "source": [
    "# lets assert a few things to find distribution of data\n",
    "# sfreq, no. of channels, whether they have valid subject info\n",
    "\n",
    "print(len(raw_data_np)) # 40\n",
    "print(raw_data_np[0].shape) # (80, 696576)\n",
    "for i in range(40): #0-23\n",
    "        assert(raw_data_np[i].shape[0]==80) # checking if all have equal channels\n",
    "        assert(raw_data[i].info['sfreq']==256) # checking if all have equal sfreq\n",
    "        assert((raw_data[i].info['subject_info']['group']=='expert') or (raw_data[i].info['subject_info']['group']=='novice')) # checking if all have group defined\n",
    "        assert((raw_data[i].info['highpass']==0) and (raw_data[i].info['lowpass']==52.0)) # all highpass and lowpass same        \n",
    "        ############################\n",
    "        ###Applying montage###\n",
    "        raw_data[i].set_montage(biosemi_montage, on_missing=\"ignore\") #missing-> ['GSR1', 'GSR2', 'Plet', 'Temp'].; DigMontage is subset\n",
    "        ###Dropping non-eeg channels###\n",
    "        raw_data[i].drop_channels(['EXG1', 'EXG2', 'EXG3', 'EXG4', 'EXG5', 'EXG6', 'EXG7', 'EXG8', 'GSR1', 'GSR2', 'Erg1', 'Erg2', 'Resp', 'Plet', 'Temp'])\n",
    "        #channel_indices=mne.pick_types(raw_data[i].info, eeg=True, exclude=['Temp', 'Plet', 'GSR1', 'GSR2'])\n",
    "        channel_indices=mne.pick_types(raw_data[i].info, eeg=True)\n",
    "        assert(len(channel_indices)==64) # all have 64 EEG channels\n",
    "        print(raw_data[i].info['ch_names'])\n",
    "        assert(len(raw_data[i].info['bads'])==0) # no bad channels\n"
   ]
  },
  {
   "cell_type": "code",
   "execution_count": 14,
   "id": "0895fa9b-f165-4fa3-aa6c-4085436d2db2",
   "metadata": {},
   "outputs": [],
   "source": [
    "for i in range(40): #0-23\n",
    "            assert(raw_data[i].info['line_freq']==50) # power line frequency"
   ]
  },
  {
   "cell_type": "code",
   "execution_count": null,
   "id": "f0b54629-ae8b-4abb-9dba-d18fab5aa728",
   "metadata": {
    "tags": []
   },
   "outputs": [],
   "source": [
    "#checking plotted sensors for one subject\n",
    "raw_data[21].plot_sensors(ch_type='eeg')\n",
    "raw_data[21].plot_sensors(kind='3d', ch_type='eeg')\n",
    "# raw_eeg = raw.copy().pick_types(meg=False, eeg=True, eog=True, exclude=[]) #meg is included in eeg maybe;; exclude=[] means dont exclude bad\n",
    "# len(raw_eeg.ch_names) selecting a subset of channels"
   ]
  },
  {
   "cell_type": "markdown",
   "id": "878a1ab5-0d2d-4942-8c4c-c09c279173e8",
   "metadata": {},
   "source": [
    "### Preprocessing done on the data->\n",
    "\n",
    "##### Data processing was done using MATLAB (The Math- Works, Inc.) and EEGLAB software (Delorme and Makeig 2004).\n",
    "\n",
    "##### The raw EEG data were average referenced and down-sampled from 2048 to 256 Hz.\n",
    "\n",
    "##### A high-pass filter at 2 Hz using a infinite impulse response filter (IIR; transi- tion bandwidth of 0.7 Hz and order of 6) was applied, and the data were then average referenced again.\n",
    "\n",
    "##### The high-pass filter was necessary to obtain high-quality ICA decompo- sitions on some subjects (see below) and, even though it was not necessary for all subjects, we opted to use the same high-pass filter settings for all subjects to ensure that all data were processed uniformly.\n",
    "\n",
    "##### Data were then segmented into 10 s-epochs, ranging from −10.05 to −0.05 s prior to the onset of question Q1 in the experience-sampling probe series\n",
    "\n",
    "##### Bad electrodes (0–20 per subject, average of 6 per subject) and bad epochs containing paroxysmal activity were manually removed.\n",
    "\n",
    "##### Extended Infomax Independent Component Analysis (ICA) was then used to identify ocu- lar and muscle artifacts (Delorme et al. 2007). ICA com- ponents for eye blink, lateral eye movements and tempo- ral muscle noise were identified and subtracted from the data by the visual inspection of both the component scalp topographies and power spectrum distributions. Between 1 and 5 artifactual components were removed for each sub- ject.\n",
    "\n",
    "##### After artifact rejection, between 21 and 64 clean data epochs (mean of 38.1; SD of 12.6) were included in subse- quent analyses for each subject."
   ]
  },
  {
   "cell_type": "markdown",
   "id": "7d5ad774-cfc9-4c98-9993-3993d51efb6b",
   "metadata": {},
   "source": [
    "### Filtering\n"
   ]
  },
  {
   "cell_type": "code",
   "execution_count": 216,
   "id": "e88e1f5b-2fb0-4907-9ddd-ae1f54c3fdb9",
   "metadata": {},
   "outputs": [
    {
     "data": {
      "text/plain": [
       "50"
      ]
     },
     "execution_count": 216,
     "metadata": {},
     "output_type": "execute_result"
    }
   ],
   "source": [
    "raw_data[21].info['line_freq']"
   ]
  },
  {
   "cell_type": "code",
   "execution_count": 20,
   "id": "f125b2fe-2907-4713-b14c-6cb7ae9d8eb5",
   "metadata": {},
   "outputs": [
    {
     "data": {
      "text/html": [
       "\n",
       "<table class=\"table table-hover\">\n",
       "    <tr>\n",
       "        <th>Measurement date</th>\n",
       "        <td>April 17, 2014  08:03:35 GMT</td>\n",
       "        \n",
       "    </tr>\n",
       "    <tr>\n",
       "        <th>Experimenter</th>\n",
       "<td>Unknown</td>\n",
       "    </tr>\n",
       "        <th>Participant</th>\n",
       "            <td>sub-012</td>\n",
       "        \n",
       "    </tr>\n",
       "    <tr>\n",
       "        <th>Digitized points</th>\n",
       "        <td>3 points</td>\n",
       "    </tr>\n",
       "    <tr>\n",
       "        <th>Good channels</th>\n",
       "        <td>0 magnetometer, 0 gradiometer,\n",
       "            and 64 EEG channels</td>\n",
       "    </tr>\n",
       "    <tr>\n",
       "        <th>Bad channels</th>\n",
       "        <td></td>\n",
       "        \n",
       "    </tr>\n",
       "    <tr>\n",
       "        <th>EOG channels</th>\n",
       "        <td>Not available</td>\n",
       "    </tr>\n",
       "    <tr>\n",
       "        <th>ECG channels</th>\n",
       "        <td>Not available</td>\n",
       "    <tr>\n",
       "        <th>Sampling frequency</th>\n",
       "        <td>256.00 Hz</td>\n",
       "    </tr>\n",
       "    <tr>\n",
       "        <th>Highpass</th>\n",
       "        <td>0.00 Hz</td>\n",
       "    </tr>\n",
       "     <tr>\n",
       "        <th>Lowpass</th>\n",
       "        <td>52.00 Hz</td>\n",
       "    </tr>\n",
       "</table>\n"
      ],
      "text/plain": [
       "<Info | 10 non-empty values\n",
       " bads: []\n",
       " ch_names: A1, A2, A3, A4, A5, A6, A7, A8, A9, A10, A11, A12, A13, A14, ...\n",
       " chs: 64 EEG, 1 STIM\n",
       " custom_ref_applied: False\n",
       " dig: 3 items (3 Cardinal)\n",
       " highpass: 0.0 Hz\n",
       " line_freq: 50\n",
       " lowpass: 52.0 Hz\n",
       " meas_date: 2014-04-17 08:03:35 UTC\n",
       " nchan: 65\n",
       " projs: []\n",
       " sfreq: 256.0 Hz\n",
       " subject_info: 4 items (dict)\n",
       ">"
      ]
     },
     "execution_count": 20,
     "metadata": {},
     "output_type": "execute_result"
    }
   ],
   "source": [
    "raw_data[21].info"
   ]
  },
  {
   "cell_type": "code",
   "execution_count": 230,
   "id": "38b8f6c0-27b1-4c4f-af8d-1eb4d5d9b75e",
   "metadata": {},
   "outputs": [
    {
     "data": {
      "text/plain": [
       "<MNEBrowseFigure size 2202x1054 with 4 Axes>"
      ]
     },
     "execution_count": 230,
     "metadata": {},
     "output_type": "execute_result"
    }
   ],
   "source": [
    "# A filter removes or attenuates parts of a signal. \n",
    "# Usually, filters act on specific frequency ranges of a signal — \n",
    "# for example, suppressing all frequency components above or below a certain cutoff value. \n",
    "\n",
    "# Artifacts that are restricted to a narrow frequency range can sometimes be repaired\n",
    "# by filtering the data. Two examples of frequency-restricted artifacts\n",
    "# are slow drifts and power line noise.\n",
    "\n",
    "# doubt do slow drift artifact?\n",
    "\n",
    "# Power line noise is an environmental artifact that manifests \n",
    "# as persistent oscillations centered around the AC power line \n",
    "# frequency. Power line artifacts are easiest to see on plots of \n",
    "# the spectrum, so we’ll use plot_psd() to illustrate. \n",
    "# We’ll also write a little function that adds arrows to the \n",
    "# spectrum plot to highlight the artifacts:\n",
    "\n",
    "# Doubt\n",
    "# Observation-> did not find power line noise\n",
    "# Observation-> not sure about slow drift\n",
    "raw_data[21].plot()\n",
    "\n"
   ]
  },
  {
   "cell_type": "code",
   "execution_count": null,
   "id": "a52fdfca-68ce-4e5f-a5d1-30a64edce916",
   "metadata": {},
   "outputs": [],
   "source": [
    "# Diff frequency bands, alpha, beta, delta, theta\n",
    "# The power of each frequency band tells something about mental state, doubt\n",
    "\n",
    "# Delta-> deepest sleep, dreamless 0.5-4\n",
    "# Alpha-> relaxed, yoga, reading (then alpha becomes higher than beta etc)\n",
    "# Plot psd of electrodes, which elec do u notice the highest alpha/beta/delta"
   ]
  },
  {
   "cell_type": "code",
   "execution_count": null,
   "id": "33200f52-c1b2-4067-8585-6befe34290bc",
   "metadata": {
    "tags": []
   },
   "outputs": [],
   "source": [
    "# raw_eeg_cropped = raw_eeg.copy().crop(tmax=100) #accepts tmin and tmax #crop to durn of 100 milisec\n",
    "# raw_eeg_cropped.times[-1] #last elem of .times attribute\n",
    "# no need to crop the data\n",
    "\n",
    "# raw_eeg_cropped_filtered = raw_eeg_cropped.filter(l_freq=0.1, h_freq=40)\n",
    "# doubt learn more on filtering, band pass, can save this data\n",
    "raw_data_filtered=[]\n",
    "\n",
    "# may use later\n",
    "for i in range(40): #0-23\n",
    "        print(i)\n",
    "        raw_data[i].load_data()\n",
    "        # high pass filter of 0.5 to remove noise\n",
    "        raw_data_filtered.append(raw_data[i].copy().filter(l_freq=0.5, h_freq=None))\n",
    "        \n",
    "# raw_eeg_cropped_filtered.save(pathlib.Path('out_data') / 'eeg_cropped_filt_raw.fif', \n",
    "#                               overwrite=True)\n",
    "        "
   ]
  },
  {
   "cell_type": "code",
   "execution_count": 23,
   "id": "027a9067-364f-4a4f-8ecb-2bbde1bac5cd",
   "metadata": {},
   "outputs": [
    {
     "name": "stdout",
     "output_type": "stream",
     "text": [
      "Effective window size : 8.000 (s)\n"
     ]
    },
    {
     "name": "stderr",
     "output_type": "stream",
     "text": [
      "/var/folders/wg/n4lzr5p965ngqdcxry8zy3kc0000gn/T/ipykernel_24408/360091751.py:15: RuntimeWarning: Channel locations not available. Disabling spatial colors.\n",
      "  raw_data[21].plot_psd()  #plot power spectral density\n"
     ]
    },
    {
     "data": {
      "text/plain": [
       "<MNELineFigure size 2000x700 with 1 Axes>"
      ]
     },
     "execution_count": 23,
     "metadata": {},
     "output_type": "execute_result"
    }
   ],
   "source": [
    "# Plot PSD of the data\n",
    "\n",
    "# import matplotlib.pyplot as plt\n",
    "\n",
    "# fig, ax = plt.subplots(2)\n",
    "# raw_eeg_cropped.plot_psd(ax=ax[0], show=False)\n",
    "# raw_eeg_cropped_filtered.plot_psd(ax=ax[1], show=False)  #plot power spectral density\n",
    "\n",
    "# ax[0].set_title('PSD before filtering')\n",
    "# ax[1].set_title('PSD after filtering')\n",
    "# ax[1].set_xlabel('Frequency (Hz)')\n",
    "# fig.set_tight_layout(True)\n",
    "# plt.show()\n",
    "\n",
    "raw_data[21].plot_psd()  #plot power spectral density\n",
    "# raw_data_filtered[21].plot_psd()  #plot power spectral density\n",
    "\n"
   ]
  },
  {
   "cell_type": "markdown",
   "id": "15054653-b34c-4e2a-afdb-61a2e18ec02c",
   "metadata": {},
   "source": [
    "## Creating epochs and generating evoked responses (ERP) -> Event Related Potential"
   ]
  },
  {
   "cell_type": "code",
   "execution_count": null,
   "id": "38a0bf93-29ba-4fa0-8303-d5e4d86683ed",
   "metadata": {
    "tags": []
   },
   "outputs": [],
   "source": [
    "# 2 create epoch we need-> where does epoch start rel to event onset, where does it end\n",
    "# should we apply baseline correction\n",
    "\n",
    "# event_epoch=['st']\n",
    "data_epochs=[]\n",
    "for i in range(40): #0-23\n",
    "    events, event_id = mne.events_from_annotations(raw_data[i])\n",
    "    tmin = -10.05 # where starts in secs, 300 ms b4 event\n",
    "    tmax = -0.05 # end of epoch after event onset\n",
    "    # baseline = (None, 0) \n",
    "    # doubt do we apply baseline correction\n",
    "    # (st of bsline, end of baseline), bsline extends from none (beg of epoch ) to event onset\n",
    "\n",
    "    epochs = mne.Epochs(raw_data[i], #data to cut into epochs\n",
    "                    events=events, #which event s to use np arr\n",
    "                    event_id=event_id, #assign human readable names to epochs\n",
    "                    tmin=tmin,\n",
    "                    tmax=tmax,\n",
    "                    baseline=None,\n",
    "#                     preload=True\n",
    "                    preload=True) #data gets loaded into mem\n",
    "    print(epochs)\n",
    "    data_epochs.append(epochs)"
   ]
  },
  {
   "cell_type": "code",
   "execution_count": 63,
   "id": "dba57dc9-6e4f-4d14-9dd0-da16271a7a88",
   "metadata": {},
   "outputs": [
    {
     "data": {
      "text/plain": [
       "<MNEBrowseFigure size 2518x1054 with 4 Axes>"
      ]
     },
     "execution_count": 63,
     "metadata": {},
     "output_type": "execute_result"
    },
    {
     "name": "stdout",
     "output_type": "stream",
     "text": [
      "Dropped 0 epochs: \n",
      "Channels marked as bad: none\n"
     ]
    }
   ],
   "source": [
    "data_epochs[21].plot()"
   ]
  },
  {
   "cell_type": "code",
   "execution_count": 32,
   "id": "b387df89-7136-4dcb-914d-b7856c343ec5",
   "metadata": {},
   "outputs": [
    {
     "name": "stdout",
     "output_type": "stream",
     "text": [
      "Used Annotations descriptions: ['response/2', 'response/4', 'response/8', 'stimulus']\n"
     ]
    }
   ],
   "source": [
    "events, event_id = mne.events_from_annotations(raw_data[15])\n"
   ]
  },
  {
   "cell_type": "code",
   "execution_count": null,
   "id": "0a31086b-9a9c-4f01-857e-7402d323d89c",
   "metadata": {
    "tags": []
   },
   "outputs": [],
   "source": [
    "events"
   ]
  },
  {
   "cell_type": "code",
   "execution_count": 33,
   "id": "fc96f765-010f-4f76-aecc-c0d804338f8c",
   "metadata": {},
   "outputs": [
    {
     "data": {
      "text/plain": [
       "{'response/2': 1, 'response/4': 2, 'response/8': 3, 'stimulus': 4}"
      ]
     },
     "execution_count": 33,
     "metadata": {},
     "output_type": "execute_result"
    }
   ],
   "source": [
    "event_id"
   ]
  },
  {
   "cell_type": "code",
   "execution_count": 34,
   "id": "819f082d-f4ea-4476-a809-eabc5646fe6d",
   "metadata": {},
   "outputs": [
    {
     "name": "stdout",
     "output_type": "stream",
     "text": [
      "no of event stimulus 32\n"
     ]
    }
   ],
   "source": [
    "print(\"no of event stimulus\", len(events[events[:, 2] == 4])) #all rows with event id 4"
   ]
  },
  {
   "cell_type": "code",
   "execution_count": 17,
   "id": "c34bea33-323a-45b4-9d67-92f935d2bc96",
   "metadata": {},
   "outputs": [],
   "source": [
    "data_epochs_stimulus=data_epochs[21]['stimulus'] # so no of events = no of epochs"
   ]
  },
  {
   "cell_type": "code",
   "execution_count": 18,
   "id": "898d18a1-1798-42c0-8013-9a2ee2c1c617",
   "metadata": {},
   "outputs": [
    {
     "data": {
      "text/html": [
       "\n",
       "<table class=\"table table-hover\">\n",
       "    <tr>\n",
       "        <th>Number of events</th>\n",
       "        <td>28</td>\n",
       "    </tr>\n",
       "    <tr>\n",
       "        <th>Events</th>\n",
       "        <td>stimulus: 28<br></td>\n",
       "    </tr>\n",
       "    <tr>\n",
       "        <th>Time range</th>\n",
       "        <td>-10.051 – -0.051 sec</td>\n",
       "    </tr>\n",
       "    <tr>\n",
       "        <th>Baseline</th>\n",
       "        <td>off</td>\n",
       "    </tr>\n",
       "</table>\n"
      ],
      "text/plain": [
       "<Epochs |  28 events (all good), -10.0508 - -0.0507812 sec, baseline off, ~35.6 MB, data loaded,\n",
       " 'stimulus': 28>"
      ]
     },
     "execution_count": 18,
     "metadata": {},
     "output_type": "execute_result"
    }
   ],
   "source": [
    "data_epochs_stimulus"
   ]
  },
  {
   "cell_type": "code",
   "execution_count": 23,
   "id": "b0296e6f-3eb1-4cf6-b0d4-d05573cacb0b",
   "metadata": {},
   "outputs": [],
   "source": [
    "data_epoch_stimulus_list=[]\n",
    "no_of_epochs=0\n",
    "# save list of epochs of type stimulus\n",
    "for i in range(40): #0-23\n",
    "    data_epochs_stimulus=data_epochs[i]['stimulus']\n",
    "    data_epoch_stimulus_list.append(data_epochs_stimulus)\n",
    "    no_of_epochs+=len(data_epoch_stimulus_list[i].events)\n",
    "    "
   ]
  },
  {
   "cell_type": "code",
   "execution_count": 24,
   "id": "85ddf45e-6c7c-4b0f-80e7-f12db73056eb",
   "metadata": {},
   "outputs": [
    {
     "data": {
      "text/plain": [
       "983"
      ]
     },
     "execution_count": 24,
     "metadata": {},
     "output_type": "execute_result"
    }
   ],
   "source": [
    "no_of_epochs"
   ]
  },
  {
   "cell_type": "code",
   "execution_count": 26,
   "id": "fd022096-8c14-43aa-b8f2-75e5425b7142",
   "metadata": {},
   "outputs": [
    {
     "data": {
      "text/plain": [
       "<MNEBrowseFigure size 2518x1054 with 4 Axes>"
      ]
     },
     "execution_count": 26,
     "metadata": {},
     "output_type": "execute_result"
    },
    {
     "name": "stdout",
     "output_type": "stream",
     "text": [
      "Dropped 0 epochs: \n",
      "Channels marked as bad: none\n"
     ]
    }
   ],
   "source": [
    "data_epoch_stimulus_list[15].plot()\n",
    "data_epoch_stimulus_list[9].copy().pick_types(meg=False, eeg=True).plot_image()\n",
    "# epochs['Right'].plot_image(picks=['eeg']) #plt img internally cr copy, no copy reqd\n",
    "\n",
    "# can save epochs\n",
    "# epochs.save(pathlib.Path('out_data') / 'epochs_epo.fif', #follow naming convention like epo for epoch\n",
    "#             overwrite=True)\n",
    "\n"
   ]
  },
  {
   "cell_type": "code",
   "execution_count": 37,
   "id": "f6cbd209-079d-412b-a8a1-07fc3961e8a3",
   "metadata": {},
   "outputs": [
    {
     "name": "stdout",
     "output_type": "stream",
     "text": [
      "(42, 65, 2561)\n"
     ]
    }
   ],
   "source": [
    "# get epoch data as 3d array\n",
    "epoch_data_single= data_epoch_stimulus_list[39].get_data()\n",
    "print (epoch_data_single.shape)\n",
    "\n",
    "# 32 epochs 65 channels 2561 time instants-> as in 1 sec 256 readings?"
   ]
  },
  {
   "cell_type": "code",
   "execution_count": null,
   "id": "5f923d88-9e35-48a8-b1a1-3d644be6d1cc",
   "metadata": {},
   "outputs": [],
   "source": [
    "# Creating evoked data\n"
   ]
  },
  {
   "cell_type": "code",
   "execution_count": null,
   "id": "9f9cd3f5-f223-459a-9b45-147d7f804a0f",
   "metadata": {},
   "outputs": [],
   "source": []
  }
 ],
 "metadata": {
  "kernelspec": {
   "display_name": "Python 3 (ipykernel)",
   "language": "python",
   "name": "python3"
  },
  "language_info": {
   "codemirror_mode": {
    "name": "ipython",
    "version": 3
   },
   "file_extension": ".py",
   "mimetype": "text/x-python",
   "name": "python",
   "nbconvert_exporter": "python",
   "pygments_lexer": "ipython3",
   "version": "3.9.5"
  }
 },
 "nbformat": 4,
 "nbformat_minor": 5
}
